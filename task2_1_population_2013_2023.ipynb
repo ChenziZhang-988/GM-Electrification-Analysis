{
 "cells": [
  {
   "cell_type": "code",
   "execution_count": 1,
   "id": "6354cf5b-77d3-4f69-9f29-dae0e8987a78",
   "metadata": {},
   "outputs": [],
   "source": [
    "import pandas as pd\n",
    "\n",
    "df = pd.read_excel('myebtablesuk20112022.xlsx', sheet_name = 'MYEB1', header = 1)"
   ]
  },
  {
   "cell_type": "code",
   "execution_count": 2,
   "id": "6d93b5a2-8b67-416d-9178-eee8e83d5b7a",
   "metadata": {},
   "outputs": [
    {
     "name": "stdout",
     "output_type": "stream",
     "text": [
      "<class 'pandas.core.frame.DataFrame'>\n",
      "Index: 12 entries, 2011 to 2022\n",
      "Data columns (total 10 columns):\n",
      " #   Column     Non-Null Count  Dtype\n",
      "---  ------     --------------  -----\n",
      " 0   E08000001  12 non-null     int64\n",
      " 1   E08000002  12 non-null     int64\n",
      " 2   E08000003  12 non-null     int64\n",
      " 3   E08000004  12 non-null     int64\n",
      " 4   E08000005  12 non-null     int64\n",
      " 5   E08000006  12 non-null     int64\n",
      " 6   E08000007  12 non-null     int64\n",
      " 7   E08000008  12 non-null     int64\n",
      " 8   E08000009  12 non-null     int64\n",
      " 9   E08000010  12 non-null     int64\n",
      "dtypes: int64(10)\n",
      "memory usage: 1.0 KB\n"
     ]
    }
   ],
   "source": [
    "# target regions\n",
    "target_LA = [\n",
    "    'E08000001', 'E08000002', 'E08000003', 'E08000004', 'E08000005',\n",
    "    'E08000006', 'E08000007', 'E08000008', 'E08000009', 'E08000010'\n",
    "]\n",
    "\n",
    "df_target = df[df['ladcode23'].isin(target_LA)]\n",
    "\n",
    "# years\n",
    "year_cols = [col for col in df.columns if 'population_' in col]\n",
    "\n",
    "# summarize by years and regions\n",
    "pop_LA = df_target.groupby('ladcode23')[year_cols].sum().T\n",
    "pop_LA.index = [int(c.replace(\"population_\", \"\")) for c in pop_LA.index]\n",
    "pop_LA.info()"
   ]
  },
  {
   "cell_type": "code",
   "execution_count": 3,
   "id": "f7b0e05e-9a37-43b7-957c-2ca8530a8c65",
   "metadata": {},
   "outputs": [
    {
     "data": {
      "text/html": [
       "<div>\n",
       "<style scoped>\n",
       "    .dataframe tbody tr th:only-of-type {\n",
       "        vertical-align: middle;\n",
       "    }\n",
       "\n",
       "    .dataframe tbody tr th {\n",
       "        vertical-align: top;\n",
       "    }\n",
       "\n",
       "    .dataframe thead th {\n",
       "        text-align: right;\n",
       "    }\n",
       "</style>\n",
       "<table border=\"1\" class=\"dataframe\">\n",
       "  <thead>\n",
       "    <tr style=\"text-align: right;\">\n",
       "      <th>ladcode23</th>\n",
       "      <th>E08000001</th>\n",
       "      <th>E08000002</th>\n",
       "      <th>E08000003</th>\n",
       "      <th>E08000004</th>\n",
       "      <th>E08000005</th>\n",
       "      <th>E08000006</th>\n",
       "      <th>E08000007</th>\n",
       "      <th>E08000008</th>\n",
       "      <th>E08000009</th>\n",
       "      <th>E08000010</th>\n",
       "    </tr>\n",
       "  </thead>\n",
       "  <tbody>\n",
       "    <tr>\n",
       "      <th>2011</th>\n",
       "      <td>277296</td>\n",
       "      <td>185422</td>\n",
       "      <td>502902</td>\n",
       "      <td>225157</td>\n",
       "      <td>211929</td>\n",
       "      <td>234487</td>\n",
       "      <td>283253</td>\n",
       "      <td>219727</td>\n",
       "      <td>227091</td>\n",
       "      <td>318122</td>\n",
       "    </tr>\n",
       "    <tr>\n",
       "      <th>2012</th>\n",
       "      <td>279738</td>\n",
       "      <td>186632</td>\n",
       "      <td>506869</td>\n",
       "      <td>226057</td>\n",
       "      <td>212345</td>\n",
       "      <td>237421</td>\n",
       "      <td>283953</td>\n",
       "      <td>220457</td>\n",
       "      <td>228512</td>\n",
       "      <td>318109</td>\n",
       "    </tr>\n",
       "    <tr>\n",
       "      <th>2013</th>\n",
       "      <td>281629</td>\n",
       "      <td>187093</td>\n",
       "      <td>510783</td>\n",
       "      <td>227866</td>\n",
       "      <td>212503</td>\n",
       "      <td>239718</td>\n",
       "      <td>284816</td>\n",
       "      <td>221446</td>\n",
       "      <td>230367</td>\n",
       "      <td>318737</td>\n",
       "    </tr>\n",
       "    <tr>\n",
       "      <th>2014</th>\n",
       "      <td>283212</td>\n",
       "      <td>188406</td>\n",
       "      <td>515360</td>\n",
       "      <td>230348</td>\n",
       "      <td>213462</td>\n",
       "      <td>242602</td>\n",
       "      <td>286267</td>\n",
       "      <td>222364</td>\n",
       "      <td>231799</td>\n",
       "      <td>320075</td>\n",
       "    </tr>\n",
       "    <tr>\n",
       "      <th>2015</th>\n",
       "      <td>284972</td>\n",
       "      <td>189254</td>\n",
       "      <td>523321</td>\n",
       "      <td>232693</td>\n",
       "      <td>214560</td>\n",
       "      <td>246942</td>\n",
       "      <td>288210</td>\n",
       "      <td>223642</td>\n",
       "      <td>232504</td>\n",
       "      <td>320864</td>\n",
       "    </tr>\n",
       "  </tbody>\n",
       "</table>\n",
       "</div>"
      ],
      "text/plain": [
       "ladcode23  E08000001  E08000002  E08000003  E08000004  E08000005  E08000006  \\\n",
       "2011          277296     185422     502902     225157     211929     234487   \n",
       "2012          279738     186632     506869     226057     212345     237421   \n",
       "2013          281629     187093     510783     227866     212503     239718   \n",
       "2014          283212     188406     515360     230348     213462     242602   \n",
       "2015          284972     189254     523321     232693     214560     246942   \n",
       "\n",
       "ladcode23  E08000007  E08000008  E08000009  E08000010  \n",
       "2011          283253     219727     227091     318122  \n",
       "2012          283953     220457     228512     318109  \n",
       "2013          284816     221446     230367     318737  \n",
       "2014          286267     222364     231799     320075  \n",
       "2015          288210     223642     232504     320864  "
      ]
     },
     "execution_count": 3,
     "metadata": {},
     "output_type": "execute_result"
    }
   ],
   "source": [
    "pop_LA.head()"
   ]
  },
  {
   "cell_type": "code",
   "execution_count": 4,
   "id": "5462ccb2-fb60-4505-97d9-4ef0ca86e4ad",
   "metadata": {},
   "outputs": [
    {
     "name": "stdout",
     "output_type": "stream",
     "text": [
      "<class 'pandas.core.frame.DataFrame'>\n",
      "Index: 10 entries, 2013 to 2022\n",
      "Data columns (total 10 columns):\n",
      " #   Column     Non-Null Count  Dtype\n",
      "---  ------     --------------  -----\n",
      " 0   E08000001  10 non-null     int64\n",
      " 1   E08000002  10 non-null     int64\n",
      " 2   E08000003  10 non-null     int64\n",
      " 3   E08000004  10 non-null     int64\n",
      " 4   E08000005  10 non-null     int64\n",
      " 5   E08000006  10 non-null     int64\n",
      " 6   E08000007  10 non-null     int64\n",
      " 7   E08000008  10 non-null     int64\n",
      " 8   E08000009  10 non-null     int64\n",
      " 9   E08000010  10 non-null     int64\n",
      "dtypes: int64(10)\n",
      "memory usage: 880.0 bytes\n"
     ]
    }
   ],
   "source": [
    "pop_LA_1322 = pop_LA.loc[2013:2022]\n",
    "pop_LA_1322.info()"
   ]
  },
  {
   "cell_type": "code",
   "execution_count": 5,
   "id": "eabe0838-2b29-4bb1-87e4-9277850eb324",
   "metadata": {},
   "outputs": [
    {
     "name": "stdout",
     "output_type": "stream",
     "text": [
      "['Code', 'Name', 'Geography', 'All ages', '0', '1', '2', '3', '4', '5', '6', '7', '8', '9', '10', '11', '12', '13', '14', '15', '16', '17', '18', '19', '20', '21', '22', '23', '24', '25', '26', '27', '28', '29', '30', '31', '32', '33', '34', '35', '36', '37', '38', '39', '40', '41', '42', '43', '44', '45', '46', '47', '48', '49', '50', '51', '52', '53', '54', '55', '56', '57', '58', '59', '60', '61', '62', '63', '64', '65', '66', '67', '68', '69', '70', '71', '72', '73', '74', '75', '76', '77', '78', '79', '80', '81', '82', '83', '84', '85', '86', '87', '88', '89', '90+']\n"
     ]
    }
   ],
   "source": [
    "# read 2023 population\n",
    "df_2023 = pd.read_excel(\n",
    "    'mye23tablesew.xlsx',\n",
    "    sheet_name='MYE2 - Persons',\n",
    "    skiprows=7\n",
    ")\n",
    "\n",
    "print(df_2023.columns.tolist())"
   ]
  },
  {
   "cell_type": "code",
   "execution_count": 6,
   "id": "e9449a9c-dc26-415b-b44b-938ccd060b37",
   "metadata": {},
   "outputs": [],
   "source": [
    "# target regions\n",
    "df_2023_target = df_2023[df_2023['Code'].isin(target_LA)].copy()\n",
    "\n",
    "age_cols = [col for col in df_2023_target.columns if col.isdigit()]\n",
    "\n",
    "# sum by regions\n",
    "pop_2023 = df_2023_target.set_index('Code')[age_cols].sum(axis=1)\n",
    "\n",
    "pop_2023_df = pop_2023.to_frame().T\n",
    "pop_2023_df.index = [2023]\n",
    "\n",
    "pop_2023_df = pop_2023_df[pop_LA_1322.columns]\n",
    "\n",
    "# merge\n",
    "pop_LA_1323 = pd.concat([pop_LA_1322, pop_2023_df])"
   ]
  },
  {
   "cell_type": "code",
   "execution_count": 7,
   "id": "e07a1bff-2a1d-4e1c-8d71-be71f3f04183",
   "metadata": {},
   "outputs": [
    {
     "name": "stdout",
     "output_type": "stream",
     "text": [
      "<class 'pandas.core.frame.DataFrame'>\n",
      "Index: 11 entries, 2013 to 2023\n",
      "Data columns (total 10 columns):\n",
      " #   Column     Non-Null Count  Dtype\n",
      "---  ------     --------------  -----\n",
      " 0   E08000001  11 non-null     int64\n",
      " 1   E08000002  11 non-null     int64\n",
      " 2   E08000003  11 non-null     int64\n",
      " 3   E08000004  11 non-null     int64\n",
      " 4   E08000005  11 non-null     int64\n",
      " 5   E08000006  11 non-null     int64\n",
      " 6   E08000007  11 non-null     int64\n",
      " 7   E08000008  11 non-null     int64\n",
      " 8   E08000009  11 non-null     int64\n",
      " 9   E08000010  11 non-null     int64\n",
      "dtypes: int64(10)\n",
      "memory usage: 968.0 bytes\n",
      "None \n",
      "\n",
      "      E08000001  E08000002  E08000003  E08000004  E08000005  E08000006  \\\n",
      "2019     294888     193763     545947     242077     222042     263611   \n",
      "2020     295712     193604     547340     242181     223024     266090   \n",
      "2021     296169     193866     550630     242003     224127     270866   \n",
      "2022     299153     194590     566778     243993     226950     278867   \n",
      "2023     300353     193940     577759     244705     228304     282676   \n",
      "\n",
      "      E08000007  E08000008  E08000009  E08000010  \n",
      "2019     293172     229952     236121     326386  \n",
      "2020     293851     230521     235937     327850  \n",
      "2021     295268     231220     235586     329796  \n",
      "2022     297191     232806     236651     334014  \n",
      "2023     296452     233168     235329     337041  \n"
     ]
    }
   ],
   "source": [
    "print(pop_LA_1323.info(), '\\n')\n",
    "print(pop_LA_1323.tail())"
   ]
  },
  {
   "cell_type": "code",
   "execution_count": 8,
   "id": "319b4f49-3e6b-407d-8f1e-6c4b56e92086",
   "metadata": {},
   "outputs": [],
   "source": [
    "pop_long = pop_LA_1323.reset_index().melt(\n",
    "    id_vars='index', var_name='LOCAL_AUTHORITY', value_name='population'\n",
    ").rename(columns={'index': 'year'})\n",
    "\n",
    "pop_long.to_csv(\"population_long_2013_2023.csv\", index=False)"
   ]
  },
  {
   "cell_type": "code",
   "execution_count": null,
   "id": "9ecfd3fe-78d6-4608-a501-78d509b271e1",
   "metadata": {},
   "outputs": [],
   "source": []
  }
 ],
 "metadata": {
  "kernelspec": {
   "display_name": "Python 3 (ipykernel)",
   "language": "python",
   "name": "python3"
  },
  "language_info": {
   "codemirror_mode": {
    "name": "ipython",
    "version": 3
   },
   "file_extension": ".py",
   "mimetype": "text/x-python",
   "name": "python",
   "nbconvert_exporter": "python",
   "pygments_lexer": "ipython3",
   "version": "3.12.4"
  }
 },
 "nbformat": 4,
 "nbformat_minor": 5
}
