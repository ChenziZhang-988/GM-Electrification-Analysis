{
 "cells": [
  {
   "cell_type": "code",
   "execution_count": 2,
   "id": "07d8d3fe-a2e0-40c4-8eec-79733e9cf60b",
   "metadata": {},
   "outputs": [],
   "source": [
    "import pandas as pd"
   ]
  },
  {
   "cell_type": "code",
   "execution_count": 4,
   "id": "737f6710-1e3c-4af7-be6d-99416c55eb67",
   "metadata": {},
   "outputs": [
    {
     "name": "stderr",
     "output_type": "stream",
     "text": [
      "C:\\Users\\chen\\AppData\\Local\\Temp\\ipykernel_21080\\2995844991.py:1: DtypeWarning: Columns (6) have mixed types. Specify dtype option on import or set low_memory=False.\n",
      "  df_factors = pd.read_csv('df_energy_factors.csv')\n"
     ]
    }
   ],
   "source": [
    "df_factors = pd.read_csv('df_energy_factors.csv')\n",
    "df_forecast = pd.read_csv('df_lstm_total_energy_forecast.csv')\n",
    "df_forecast = df_forecast[df_forecast['predicted_total_energy'].notna()].reset_index(drop=True)"
   ]
  },
  {
   "cell_type": "code",
   "execution_count": 5,
   "id": "ceb8c555-085a-4387-b4e6-0802832ba98a",
   "metadata": {},
   "outputs": [],
   "source": [
    "df_factors.columns = df_factors.columns.str.lower()\n",
    "df_forecast.columns = df_forecast.columns.str.lower()"
   ]
  },
  {
   "cell_type": "code",
   "execution_count": 6,
   "id": "926e47bb-2059-42cf-8305-ab02e4b4dc7f",
   "metadata": {},
   "outputs": [
    {
     "name": "stdout",
     "output_type": "stream",
     "text": [
      "<class 'pandas.core.frame.DataFrame'>\n",
      "RangeIndex: 854276 entries, 0 to 854275\n",
      "Data columns (total 36 columns):\n",
      " #   Column                      Non-Null Count   Dtype  \n",
      "---  ------                      --------------   -----  \n",
      " 0   unnamed: 0                  854276 non-null  int64  \n",
      " 1   energy_consumption_current  854276 non-null  int64  \n",
      " 2   property_type               854276 non-null  object \n",
      " 3   built_form                  854276 non-null  object \n",
      " 4   construction_age_band       847570 non-null  object \n",
      " 5   total_floor_area            854276 non-null  float64\n",
      " 6   floor_level                 692550 non-null  object \n",
      " 7   flat_top_storey             224305 non-null  object \n",
      " 8   floor_height                287314 non-null  float64\n",
      " 9   extension_count             754448 non-null  float64\n",
      " 10  number_habitable_rooms      754448 non-null  float64\n",
      " 11  number_heated_rooms         754448 non-null  float64\n",
      " 12  heat_loss_corridor          672648 non-null  object \n",
      " 13  glazed_type                 819624 non-null  object \n",
      " 14  glazed_area                 819624 non-null  object \n",
      " 15  multi_glaze_proportion      785948 non-null  float64\n",
      " 16  windows_energy_eff          854272 non-null  object \n",
      " 17  walls_energy_eff            854270 non-null  object \n",
      " 18  roof_energy_eff             697557 non-null  object \n",
      " 19  floor_energy_eff            393701 non-null  object \n",
      " 20  mainheat_description        854276 non-null  object \n",
      " 21  main_heating_controls       542286 non-null  float64\n",
      " 22  hotwater_description        854275 non-null  object \n",
      " 23  low_energy_lighting         829155 non-null  float64\n",
      " 24  lighting_energy_eff         854276 non-null  object \n",
      " 25  solar_water_heating_flag    547255 non-null  object \n",
      " 26  photo_supply                416012 non-null  float64\n",
      " 27  mechanical_ventilation      819624 non-null  object \n",
      " 28  inspection_date             854276 non-null  object \n",
      " 29  year                        854276 non-null  int64  \n",
      " 30  local_authority             854276 non-null  object \n",
      " 31  transaction_type            854276 non-null  object \n",
      " 32  building_reference_number   854276 non-null  int64  \n",
      " 33  population                  854276 non-null  int64  \n",
      " 34  main_fuel                   854276 non-null  object \n",
      " 35  tenure                      854276 non-null  object \n",
      "dtypes: float64(9), int64(5), object(22)\n",
      "memory usage: 234.6+ MB\n"
     ]
    }
   ],
   "source": [
    "df_factors.info()"
   ]
  },
  {
   "cell_type": "code",
   "execution_count": 7,
   "id": "b6469c2d-6820-4974-9781-5669e1962299",
   "metadata": {},
   "outputs": [
    {
     "data": {
      "text/plain": [
       "['unnamed: 0',\n",
       " 'energy_consumption_current',\n",
       " 'property_type',\n",
       " 'built_form',\n",
       " 'construction_age_band',\n",
       " 'total_floor_area',\n",
       " 'floor_level',\n",
       " 'flat_top_storey',\n",
       " 'floor_height',\n",
       " 'extension_count',\n",
       " 'number_habitable_rooms',\n",
       " 'number_heated_rooms',\n",
       " 'heat_loss_corridor',\n",
       " 'glazed_type',\n",
       " 'glazed_area',\n",
       " 'multi_glaze_proportion',\n",
       " 'windows_energy_eff',\n",
       " 'walls_energy_eff',\n",
       " 'roof_energy_eff',\n",
       " 'floor_energy_eff',\n",
       " 'mainheat_description',\n",
       " 'main_heating_controls',\n",
       " 'hotwater_description',\n",
       " 'low_energy_lighting',\n",
       " 'lighting_energy_eff',\n",
       " 'solar_water_heating_flag',\n",
       " 'photo_supply',\n",
       " 'mechanical_ventilation',\n",
       " 'inspection_date',\n",
       " 'year',\n",
       " 'local_authority',\n",
       " 'transaction_type',\n",
       " 'building_reference_number',\n",
       " 'population',\n",
       " 'main_fuel',\n",
       " 'tenure']"
      ]
     },
     "execution_count": 7,
     "metadata": {},
     "output_type": "execute_result"
    }
   ],
   "source": [
    "df_factors.columns.to_list()"
   ]
  },
  {
   "cell_type": "code",
   "execution_count": 12,
   "id": "6dda6093-a3f3-4e18-9527-33f092c2b2d5",
   "metadata": {},
   "outputs": [
    {
     "data": {
      "text/plain": [
       "array(['mains gas (not community)',\n",
       "       'mains gas - this is for backwards compatibility only and should not be used',\n",
       "       'oil (not community)', 'electricity (not community)', 'NO DATA!',\n",
       "       'mains gas (community)',\n",
       "       'Electricity: electricity, unspecified tariff',\n",
       "       'To be used only when there is no heating/hot-water system',\n",
       "       'house coal (not community)', 'dual fuel - mineral + wood',\n",
       "       'LPG (not community)', 'Gas: mains gas', 'wood logs',\n",
       "       'LPG - this is for backwards compatibility only and should not be used',\n",
       "       'LPG special condition', 'electricity (community)',\n",
       "       'biomass (community)', 'smokeless coal', 'bottled LPG',\n",
       "       'anthracite', 'LPG (community)', 'B30D (community)', 'INVALID!',\n",
       "       'To be used only when there is no heating/hot-water system or data is from a community network',\n",
       "       'oil (community)', 'Solid fuel: wood logs', 'bulk wood pellets',\n",
       "       'Gas: bulk LPG', 'from heat network data (community)',\n",
       "       'B30K (not community)',\n",
       "       'oil - this is for backwards compatibility only and should not be used',\n",
       "       'wood pellets in bags for secondary heating', 'Oil: heating oil',\n",
       "       'waste combustion (community)',\n",
       "       'heat from boilers using biodiesel from any biomass source (community)',\n",
       "       'biogas (community)', 'wood chips',\n",
       "       'appliances able to use mineral oil or liquid biofuel'],\n",
       "      dtype=object)"
      ]
     },
     "execution_count": 12,
     "metadata": {},
     "output_type": "execute_result"
    }
   ],
   "source": [
    "df_factors['main_fuel'].unique()"
   ]
  },
  {
   "cell_type": "code",
   "execution_count": 14,
   "id": "eb6b2742-dfdc-467b-827b-101917cbedf8",
   "metadata": {},
   "outputs": [],
   "source": [
    "# 'electricity (not community)'\n",
    "# 'Electricity: electricity, unspecified tariff'\n",
    "# 'electricity (community)'"
   ]
  },
  {
   "cell_type": "code",
   "execution_count": 16,
   "id": "7c464f77-ef46-4d42-a9f3-eda3cbd4d2f2",
   "metadata": {},
   "outputs": [
    {
     "data": {
      "text/plain": [
       "38"
      ]
     },
     "execution_count": 16,
     "metadata": {},
     "output_type": "execute_result"
    }
   ],
   "source": [
    "df_factors['main_fuel'].nunique()"
   ]
  },
  {
   "cell_type": "code",
   "execution_count": 18,
   "id": "17d81784-a7ca-45f2-8384-2c29fb85b1ac",
   "metadata": {},
   "outputs": [
    {
     "data": {
      "text/plain": [
       "array(['E08000001', 'E08000002', 'E08000003', 'E08000004', 'E08000005',\n",
       "       'E08000006', 'E08000007', 'E08000008', 'E08000009', 'E08000010'],\n",
       "      dtype=object)"
      ]
     },
     "execution_count": 18,
     "metadata": {},
     "output_type": "execute_result"
    }
   ],
   "source": [
    "df_factors['local_authority'].unique()"
   ]
  },
  {
   "cell_type": "markdown",
   "id": "449c5c3d-98f8-4178-9a8c-79ac1b2242f4",
   "metadata": {},
   "source": [
    "# Step1: Share of electricity current/future"
   ]
  },
  {
   "cell_type": "code",
   "execution_count": 21,
   "id": "a9387cab-2c6d-4215-8d48-beae5321dc33",
   "metadata": {},
   "outputs": [],
   "source": [
    "# 1. identify electricity fuel\n",
    "electric_keywords = ['electric', 'electricity']\n",
    "df_factors['is_electric'] = df_factors['main_fuel'].str.lower().apply(\n",
    "    lambda x: any(keyword in x for keyword in electric_keywords)\n",
    ")\n",
    "# 2. calculate current electricity share by regions (baseline)\n",
    "df_base_electric_share = (\n",
    "    df_factors.groupby('local_authority')['is_electric']\n",
    "    .mean()\n",
    "    .reset_index()\n",
    "    .rename(columns = {'is_electric': 'base_electricity_share'})\n",
    ")\n",
    "# 3. 3 electrification scenarios\n",
    "years = list(range(2024, 2036))\n",
    "scenarios = {\n",
    "    'A': 0.70, # steady progress\n",
    "    'B': 0.90, # policy driven\n",
    "    'C': 0.60 # conservative\n",
    "}"
   ]
  },
  {
   "cell_type": "code",
   "execution_count": 23,
   "id": "15fda6c0-e376-44eb-a251-a29dbd0d08a7",
   "metadata": {},
   "outputs": [
    {
     "data": {
      "text/html": [
       "<div>\n",
       "<style scoped>\n",
       "    .dataframe tbody tr th:only-of-type {\n",
       "        vertical-align: middle;\n",
       "    }\n",
       "\n",
       "    .dataframe tbody tr th {\n",
       "        vertical-align: top;\n",
       "    }\n",
       "\n",
       "    .dataframe thead th {\n",
       "        text-align: right;\n",
       "    }\n",
       "</style>\n",
       "<table border=\"1\" class=\"dataframe\">\n",
       "  <thead>\n",
       "    <tr style=\"text-align: right;\">\n",
       "      <th></th>\n",
       "      <th>local_authority</th>\n",
       "      <th>year</th>\n",
       "      <th>electric_share_A</th>\n",
       "      <th>electric_share_B</th>\n",
       "      <th>electric_share_C</th>\n",
       "    </tr>\n",
       "  </thead>\n",
       "  <tbody>\n",
       "    <tr>\n",
       "      <th>0</th>\n",
       "      <td>E08000001</td>\n",
       "      <td>2024</td>\n",
       "      <td>0.160589</td>\n",
       "      <td>0.177255</td>\n",
       "      <td>0.152255</td>\n",
       "    </tr>\n",
       "    <tr>\n",
       "      <th>1</th>\n",
       "      <td>E08000001</td>\n",
       "      <td>2025</td>\n",
       "      <td>0.209626</td>\n",
       "      <td>0.242959</td>\n",
       "      <td>0.192959</td>\n",
       "    </tr>\n",
       "    <tr>\n",
       "      <th>2</th>\n",
       "      <td>E08000001</td>\n",
       "      <td>2026</td>\n",
       "      <td>0.258663</td>\n",
       "      <td>0.308663</td>\n",
       "      <td>0.233663</td>\n",
       "    </tr>\n",
       "    <tr>\n",
       "      <th>3</th>\n",
       "      <td>E08000001</td>\n",
       "      <td>2027</td>\n",
       "      <td>0.307701</td>\n",
       "      <td>0.374368</td>\n",
       "      <td>0.274368</td>\n",
       "    </tr>\n",
       "    <tr>\n",
       "      <th>4</th>\n",
       "      <td>E08000001</td>\n",
       "      <td>2028</td>\n",
       "      <td>0.356738</td>\n",
       "      <td>0.440072</td>\n",
       "      <td>0.315072</td>\n",
       "    </tr>\n",
       "  </tbody>\n",
       "</table>\n",
       "</div>"
      ],
      "text/plain": [
       "  local_authority  year  electric_share_A  electric_share_B  electric_share_C\n",
       "0       E08000001  2024          0.160589          0.177255          0.152255\n",
       "1       E08000001  2025          0.209626          0.242959          0.192959\n",
       "2       E08000001  2026          0.258663          0.308663          0.233663\n",
       "3       E08000001  2027          0.307701          0.374368          0.274368\n",
       "4       E08000001  2028          0.356738          0.440072          0.315072"
      ]
     },
     "execution_count": 23,
     "metadata": {},
     "output_type": "execute_result"
    }
   ],
   "source": [
    "# interpolation for electrification share by years\n",
    "df_path = []\n",
    "\n",
    "for _, row in df_base_electric_share.iterrows():\n",
    "    loc = row['local_authority']\n",
    "    base = row['base_electricity_share']\n",
    "    for y in years:\n",
    "        for s, target in scenarios.items():\n",
    "            share = base + (target - base) * (y - 2023) / (2035 - 2023)\n",
    "            df_path.append({\n",
    "                'local_authority': loc,\n",
    "                'year': y,\n",
    "                f'electric_share_{s}': share\n",
    "            })\n",
    "\n",
    "# merge 3 scenarios\n",
    "df_path = pd.DataFrame(df_path)\n",
    "df_path = df_path.pivot_table(index=['local_authority', 'year'], aggfunc = 'first').reset_index()\n",
    "\n",
    "# part results\n",
    "df_path.head()"
   ]
  },
  {
   "cell_type": "markdown",
   "id": "f8467ef7-2ada-4979-9cba-0bae4b2d4bf2",
   "metadata": {},
   "source": [
    "# Step2: Calculate increased electricity demand, 3 scenarios"
   ]
  },
  {
   "cell_type": "code",
   "execution_count": 26,
   "id": "1e4cc7da-c646-4f70-a3ca-2595159bd450",
   "metadata": {},
   "outputs": [
    {
     "name": "stdout",
     "output_type": "stream",
     "text": [
      "  local_authority  year  predicted_total_energy  electric_demand_current  \\\n",
      "0       E08000001  2024            1.455024e+08             1.623098e+07   \n",
      "1       E08000001  2025            1.441228e+08             1.607708e+07   \n",
      "2       E08000001  2026            1.437851e+08             1.603941e+07   \n",
      "3       E08000001  2027            1.434858e+08             1.600603e+07   \n",
      "4       E08000001  2028            1.432900e+08             1.598418e+07   \n",
      "\n",
      "   electric_share_A  electric_demand_A  electric_total_A  electric_share_B  \\\n",
      "0          0.160589       2.378352e+06      1.860933e+07          0.177255   \n",
      "1          0.209626       4.711603e+06      2.078868e+07          0.242959   \n",
      "2          0.258663       7.050846e+06      2.309026e+07          0.308663   \n",
      "3          0.307701       9.381560e+06      2.538759e+07          0.374368   \n",
      "4          0.356738       1.171094e+07      2.769512e+07          0.440072   \n",
      "\n",
      "   electric_demand_B  electric_total_B  electric_share_C  electric_demand_C  \\\n",
      "0       3.186699e+06      1.941768e+07          0.152255       1.974179e+06   \n",
      "1       6.312967e+06      2.239005e+07          0.192959       3.910921e+06   \n",
      "2       9.447264e+06      2.548668e+07          0.233663       5.852637e+06   \n",
      "3       1.257013e+07      2.857616e+07          0.274368       7.787274e+06   \n",
      "4       1.569122e+07      3.167540e+07          0.315072       9.720805e+06   \n",
      "\n",
      "   electric_total_C  \n",
      "0      1.820516e+07  \n",
      "1      1.998800e+07  \n",
      "2      2.189205e+07  \n",
      "3      2.379330e+07  \n",
      "4      2.570498e+07  \n"
     ]
    }
   ],
   "source": [
    "# merge forecast energy with above paths\n",
    "df_merged = pd.merge(df_forecast, df_path, on = ['local_authority', 'year'], how = 'left')\n",
    "\n",
    "# merge current electricity share\n",
    "df_merged = pd.merge(df_merged, df_base_electric_share, on = 'local_authority', how = 'left')\n",
    "# new col, total electricity demand existing, baseline\n",
    "df_merged['electric_demand_current'] = (\n",
    "    df_merged['predicted_total_energy'] * df_merged['base_electricity_share']\n",
    ")\n",
    "\n",
    "# increased demand = total energy yearly *(yearly share - baseline) / cop\n",
    "COP = 3\n",
    "for scenario in ['A', 'B', 'C']:\n",
    "    df_merged[f'electric_demand_{scenario}'] = (\n",
    "        df_merged['predicted_total_energy'] *\n",
    "        (df_merged[f'electric_share_{scenario}'] - df_merged['base_electricity_share']) / COP\n",
    "    ).clip(lower = 0) #　avoid negative values\n",
    "\n",
    "# total demand = current demand + increased demand\n",
    "for scenario in ['A', 'B', 'C']:\n",
    "    df_merged[f'electric_total_{scenario}'] = (\n",
    "        df_merged['electric_demand_current'] + df_merged[f'electric_demand_{scenario}']\n",
    "    )\n",
    "# output\n",
    "df_result_sample = df_merged[['local_authority', 'year', 'predicted_total_energy', 'electric_demand_current',\n",
    "                             'electric_share_A', 'electric_demand_A', 'electric_total_A',\n",
    "                             'electric_share_B', 'electric_demand_B', 'electric_total_B',\n",
    "                             'electric_share_C', 'electric_demand_C', 'electric_total_C']].head(5)\n",
    "print(df_result_sample)"
   ]
  },
  {
   "cell_type": "code",
   "execution_count": 28,
   "id": "2589a7db-5bbb-46d2-8058-34be22cf6c1f",
   "metadata": {},
   "outputs": [],
   "source": [
    "# export main cols\n",
    "output_columns = [\n",
    "    'local_authority', 'year', 'predicted_total_energy',\n",
    "    'base_electricity_share', 'electric_demand_current',\n",
    "    'electric_share_A', 'electric_demand_A', 'electric_total_A',\n",
    "    'electric_share_B', 'electric_demand_B', 'electric_total_B',\n",
    "    'electric_share_C', 'electric_demand_C', 'electric_total_C'\n",
    "]\n",
    "\n",
    "df_export = df_merged[output_columns].reset_index(drop = True)\n",
    "df_export.to_csv('electricity_demand_scenarios_2024_2035.csv', index = False)"
   ]
  },
  {
   "cell_type": "markdown",
   "id": "33dceba5-7355-4044-b25f-63738aebab73",
   "metadata": {},
   "source": [
    "# Step3: Results analysis"
   ]
  },
  {
   "cell_type": "code",
   "execution_count": 31,
   "id": "e6ac2a08-a990-4c03-8f4a-cdca7bade43f",
   "metadata": {},
   "outputs": [],
   "source": [
    "import matplotlib.pyplot as plt\n",
    "import pandas as pd\n",
    "# all demand by years under 3 scenarios\n",
    "df_export = pd.read_csv('electricity_demand_scenarios_2024_2035.csv')"
   ]
  },
  {
   "cell_type": "code",
   "execution_count": 33,
   "id": "4e7061af-360b-4090-9cf3-6beb65e053a0",
   "metadata": {},
   "outputs": [
    {
     "data": {
      "image/png": "[encoded data removed]",
      "text/plain": [
       "<Figure size 1000x700 with 1 Axes>"
      ]
     },
     "metadata": {},
     "output_type": "display_data"
    }
   ],
   "source": [
    "# toal elec demand\n",
    "df_summary = df_export.groupby('year')[\n",
    "    ['electric_total_A', 'electric_total_B', 'electric_total_C']\n",
    "].sum().reset_index()\n",
    "\n",
    "\n",
    "plt.figure(figsize=(10, 7))\n",
    "# labels location\n",
    "scenarios = [\n",
    "    ('electric_total_A', 'blue', 5e6),\n",
    "    ('electric_total_B', 'orange', 5e6),\n",
    "    ('electric_total_C', 'green', -15e6)\n",
    "]\n",
    "\n",
    "\n",
    "for scenario, color, y_offset in scenarios:\n",
    "    plt.plot(df_summary['year'], df_summary[scenario], \n",
    "             label=scenario.replace('_', ' ').title(), color=color)\n",
    "    for x, y in zip(df_summary['year'], df_summary[scenario]):\n",
    "        plt.text(x, y + y_offset, f'{y/1e6:.1f}M', fontsize=8, \n",
    "                 color=color, ha='center', va='bottom')\n",
    "\n",
    "plt.xlabel('Year')\n",
    "plt.ylabel('Total Electricity Demand (kWh)')\n",
    "\n",
    "plt.legend()\n",
    "plt.grid(True)\n",
    "plt.tight_layout()\n",
    "plt.show()"
   ]
  },
  {
   "cell_type": "code",
   "execution_count": 35,
   "id": "c31be66e-1223-46d6-8e7f-13b41ea3f322",
   "metadata": {},
   "outputs": [
    {
     "name": "stdout",
     "output_type": "stream",
     "text": [
      "  local_authority  electric_demand_A  electric_demand_B  electric_demand_C  \\\n",
      "0       E08000003       4.042500e+07       5.833331e+07       3.147085e+07   \n",
      "1       E08000006       2.120856e+07       3.105004e+07       1.628781e+07   \n",
      "2       E08000001       2.792275e+07       3.741304e+07       2.317760e+07   \n",
      "3       E08000007       2.746830e+07       3.680008e+07       2.280241e+07   \n",
      "4       E08000010       2.718472e+07       3.585374e+07       2.285021e+07   \n",
      "5       E08000008       2.527101e+07       3.334877e+07       2.123213e+07   \n",
      "6       E08000004       2.741149e+07       3.584414e+07       2.319516e+07   \n",
      "7       E08000002       2.315056e+07       3.071345e+07       1.936912e+07   \n",
      "8       E08000005       2.372679e+07       3.119081e+07       1.999479e+07   \n",
      "9       E08000009       1.761636e+07       2.391162e+07       1.446873e+07   \n",
      "\n",
      "   electric_total_A  electric_total_B  electric_total_C  \n",
      "0      1.071872e+08      1.250955e+08      9.823306e+07  \n",
      "1      6.091850e+07      7.075998e+07      5.599775e+07  \n",
      "2      4.380256e+07      5.329285e+07      3.905741e+07  \n",
      "3      4.304710e+07      5.237888e+07      3.838121e+07  \n",
      "4      3.665525e+07      4.532427e+07      3.232074e+07  \n",
      "5      3.427443e+07      4.235218e+07      3.023555e+07  \n",
      "6      3.371988e+07      4.215253e+07      2.950355e+07  \n",
      "7      3.310921e+07      4.067210e+07      2.932777e+07  \n",
      "8      3.091856e+07      3.838257e+07      2.718655e+07  \n",
      "9      3.086752e+07      3.716278e+07      2.771989e+07  \n"
     ]
    }
   ],
   "source": [
    "# select 2035 data\n",
    "df_2035 = df_export[df_export['year'] == 2035].copy()\n",
    "cols = [\n",
    "    'local_authority',\n",
    "    'electric_demand_A','electric_demand_B','electric_demand_C',\n",
    "    'electric_total_A','electric_total_B','electric_total_C'\n",
    "]\n",
    "# extract and sort\n",
    "df_report = df_2035[cols].sort_values('electric_total_B', ascending=False).reset_index(drop=True)\n",
    "\n",
    "# export\n",
    "df_report.to_csv('electric_demand_2035_by_district.csv', index=False)\n",
    "print(df_report)"
   ]
  },
  {
   "cell_type": "code",
   "execution_count": null,
   "id": "9adc143d-7060-44f9-808b-dc4f9a0ce181",
   "metadata": {},
   "outputs": [],
   "source": []
  }
 ],
 "metadata": {
  "kernelspec": {
   "display_name": "Python 3 (ipykernel)",
   "language": "python",
   "name": "python3"
  },
  "language_info": {
   "codemirror_mode": {
    "name": "ipython",
    "version": 3
   },
   "file_extension": ".py",
   "mimetype": "text/x-python",
   "name": "python",
   "nbconvert_exporter": "python",
   "pygments_lexer": "ipython3",
   "version": "3.12.4"
  }
 },
 "nbformat": 4,
 "nbformat_minor": 5
}
