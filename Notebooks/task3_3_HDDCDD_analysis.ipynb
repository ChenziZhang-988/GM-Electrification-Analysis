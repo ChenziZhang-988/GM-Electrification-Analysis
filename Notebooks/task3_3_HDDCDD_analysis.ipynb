{
 "cells": [
  {
   "cell_type": "markdown",
   "id": "a3dbf0ea-adaa-427b-b785-e5b279b5bbd2",
   "metadata": {},
   "source": [
    "# Step1: Read data"
   ]
  },
  {
   "cell_type": "code",
   "execution_count": 5,
   "id": "a5221cb3-1dda-4b6f-9385-9dbcbb46a70b",
   "metadata": {},
   "outputs": [],
   "source": [
    "import pandas as pd"
   ]
  },
  {
   "cell_type": "markdown",
   "id": "15dc04ef-53cf-4206-9af8-83e4f5494b44",
   "metadata": {},
   "source": [
    "## 1.1 historical, max and min, 13-23"
   ]
  },
  {
   "cell_type": "code",
   "execution_count": 8,
   "id": "0e46abf6-408e-4ae6-82b4-414cf1f956d3",
   "metadata": {},
   "outputs": [],
   "source": [
    "df_max = pd.read_csv('1323max.csv', skiprows = 10)\n",
    "df_min = pd.read_csv('1323min.csv', skiprows = 10)"
   ]
  },
  {
   "cell_type": "code",
   "execution_count": 10,
   "id": "6ab953de-5566-4863-8160-4cb701b11822",
   "metadata": {},
   "outputs": [
    {
     "data": {
      "text/html": [
       "<div>\n",
       "<style scoped>\n",
       "    .dataframe tbody tr th:only-of-type {\n",
       "        vertical-align: middle;\n",
       "    }\n",
       "\n",
       "    .dataframe tbody tr th {\n",
       "        vertical-align: top;\n",
       "    }\n",
       "\n",
       "    .dataframe thead th {\n",
       "        text-align: right;\n",
       "    }\n",
       "</style>\n",
       "<table border=\"1\" class=\"dataframe\">\n",
       "  <thead>\n",
       "    <tr style=\"text-align: right;\">\n",
       "      <th></th>\n",
       "      <th>Date</th>\n",
       "      <th>Maximum air temperature at 1.5m (°C)</th>\n",
       "    </tr>\n",
       "  </thead>\n",
       "  <tbody>\n",
       "    <tr>\n",
       "      <th>0</th>\n",
       "      <td>2013-01-01</td>\n",
       "      <td>6.60862</td>\n",
       "    </tr>\n",
       "    <tr>\n",
       "      <th>1</th>\n",
       "      <td>2013-01-02</td>\n",
       "      <td>10.57874</td>\n",
       "    </tr>\n",
       "    <tr>\n",
       "      <th>2</th>\n",
       "      <td>2013-01-03</td>\n",
       "      <td>10.40448</td>\n",
       "    </tr>\n",
       "    <tr>\n",
       "      <th>3</th>\n",
       "      <td>2013-01-04</td>\n",
       "      <td>9.36426</td>\n",
       "    </tr>\n",
       "    <tr>\n",
       "      <th>4</th>\n",
       "      <td>2013-01-05</td>\n",
       "      <td>10.02218</td>\n",
       "    </tr>\n",
       "  </tbody>\n",
       "</table>\n",
       "</div>"
      ],
      "text/plain": [
       "         Date  Maximum air temperature at 1.5m (°C)\n",
       "0  2013-01-01                               6.60862\n",
       "1  2013-01-02                              10.57874\n",
       "2  2013-01-03                              10.40448\n",
       "3  2013-01-04                               9.36426\n",
       "4  2013-01-05                              10.02218"
      ]
     },
     "execution_count": 10,
     "metadata": {},
     "output_type": "execute_result"
    }
   ],
   "source": [
    "df_max.head()"
   ]
  },
  {
   "cell_type": "code",
   "execution_count": 12,
   "id": "902de75b-dd08-44df-89c4-b43c8c93d157",
   "metadata": {},
   "outputs": [
    {
     "name": "stdout",
     "output_type": "stream",
     "text": [
      "<class 'pandas.core.frame.DataFrame'>\n",
      "RangeIndex: 4017 entries, 0 to 4016\n",
      "Data columns (total 2 columns):\n",
      " #   Column                                Non-Null Count  Dtype  \n",
      "---  ------                                --------------  -----  \n",
      " 0   Date                                  4017 non-null   object \n",
      " 1   Maximum air temperature at 1.5m (°C)  4017 non-null   float64\n",
      "dtypes: float64(1), object(1)\n",
      "memory usage: 62.9+ KB\n"
     ]
    }
   ],
   "source": [
    "df_max.info()"
   ]
  },
  {
   "cell_type": "code",
   "execution_count": 14,
   "id": "74a9f92f-854c-4236-9916-5df532edd6d9",
   "metadata": {},
   "outputs": [
    {
     "data": {
      "text/html": [
       "<div>\n",
       "<style scoped>\n",
       "    .dataframe tbody tr th:only-of-type {\n",
       "        vertical-align: middle;\n",
       "    }\n",
       "\n",
       "    .dataframe tbody tr th {\n",
       "        vertical-align: top;\n",
       "    }\n",
       "\n",
       "    .dataframe thead th {\n",
       "        text-align: right;\n",
       "    }\n",
       "</style>\n",
       "<table border=\"1\" class=\"dataframe\">\n",
       "  <thead>\n",
       "    <tr style=\"text-align: right;\">\n",
       "      <th></th>\n",
       "      <th>Date</th>\n",
       "      <th>Minimum air temperature at 1.5m (°C)</th>\n",
       "    </tr>\n",
       "  </thead>\n",
       "  <tbody>\n",
       "    <tr>\n",
       "      <th>0</th>\n",
       "      <td>2013-01-01</td>\n",
       "      <td>3.08765</td>\n",
       "    </tr>\n",
       "    <tr>\n",
       "      <th>1</th>\n",
       "      <td>2013-01-02</td>\n",
       "      <td>3.74957</td>\n",
       "    </tr>\n",
       "    <tr>\n",
       "      <th>2</th>\n",
       "      <td>2013-01-03</td>\n",
       "      <td>5.67923</td>\n",
       "    </tr>\n",
       "    <tr>\n",
       "      <th>3</th>\n",
       "      <td>2013-01-04</td>\n",
       "      <td>7.49624</td>\n",
       "    </tr>\n",
       "    <tr>\n",
       "      <th>4</th>\n",
       "      <td>2013-01-05</td>\n",
       "      <td>6.67734</td>\n",
       "    </tr>\n",
       "  </tbody>\n",
       "</table>\n",
       "</div>"
      ],
      "text/plain": [
       "         Date  Minimum air temperature at 1.5m (°C)\n",
       "0  2013-01-01                               3.08765\n",
       "1  2013-01-02                               3.74957\n",
       "2  2013-01-03                               5.67923\n",
       "3  2013-01-04                               7.49624\n",
       "4  2013-01-05                               6.67734"
      ]
     },
     "execution_count": 14,
     "metadata": {},
     "output_type": "execute_result"
    }
   ],
   "source": [
    "df_min.head()"
   ]
  },
  {
   "cell_type": "code",
   "execution_count": 16,
   "id": "c7d27328-f090-4773-88d2-55ebd5c28241",
   "metadata": {},
   "outputs": [
    {
     "name": "stdout",
     "output_type": "stream",
     "text": [
      "<class 'pandas.core.frame.DataFrame'>\n",
      "RangeIndex: 4017 entries, 0 to 4016\n",
      "Data columns (total 2 columns):\n",
      " #   Column                                Non-Null Count  Dtype  \n",
      "---  ------                                --------------  -----  \n",
      " 0   Date                                  4017 non-null   object \n",
      " 1   Minimum air temperature at 1.5m (°C)  4017 non-null   float64\n",
      "dtypes: float64(1), object(1)\n",
      "memory usage: 62.9+ KB\n"
     ]
    }
   ],
   "source": [
    "df_min.info()"
   ]
  },
  {
   "cell_type": "code",
   "execution_count": 18,
   "id": "af0e1502-8109-4eaf-9da4-61b728e4afd4",
   "metadata": {},
   "outputs": [],
   "source": [
    "# rename and merge"
   ]
  },
  {
   "cell_type": "code",
   "execution_count": 20,
   "id": "f91dab6c-8232-43be-b848-8c2901286a95",
   "metadata": {},
   "outputs": [],
   "source": [
    "df_max.rename(columns={df_max.columns[0]: 'Date', df_max.columns[1]: 'Tmax'}, inplace=True)\n",
    "df_min.rename(columns={df_min.columns[0]: 'Date', df_min.columns[1]: 'Tmin'}, inplace=True)"
   ]
  },
  {
   "cell_type": "code",
   "execution_count": 22,
   "id": "67404886-2506-4593-8917-e7ebebfb66a3",
   "metadata": {},
   "outputs": [],
   "source": [
    "# convert datetime\n",
    "df_max['Date'] = pd.to_datetime(df_max['Date'])\n",
    "df_min['Date'] = pd.to_datetime(df_min['Date'])"
   ]
  },
  {
   "cell_type": "code",
   "execution_count": 24,
   "id": "abee12e1-7ba9-40e1-8df8-1788ec69981d",
   "metadata": {},
   "outputs": [],
   "source": [
    "# merge max and min\n",
    "df_hist = pd.merge(df_max, df_min, on = 'Date')"
   ]
  },
  {
   "cell_type": "code",
   "execution_count": 26,
   "id": "8230aa69-1af9-4692-b2da-052b9d9e5b7b",
   "metadata": {},
   "outputs": [],
   "source": [
    "# calculate daily mean\n",
    "df_hist['Tavg'] = (df_hist['Tmax'] + df_hist['Tmin']) / 2"
   ]
  },
  {
   "cell_type": "code",
   "execution_count": 28,
   "id": "8107efe6-169b-4346-b91a-5bc406513ae9",
   "metadata": {},
   "outputs": [],
   "source": [
    "# UK baseline temperature\n",
    "base_hdd = 15.5\n",
    "base_cdd = 22.0"
   ]
  },
  {
   "cell_type": "code",
   "execution_count": 30,
   "id": "cc9486e8-d075-4779-8647-8955931cfd1a",
   "metadata": {},
   "outputs": [],
   "source": [
    "# calculate HDD CDD\n",
    "df_hist['HDD'] = (base_hdd - df_hist['Tavg']).clip(lower = 0)\n",
    "df_hist['CDD'] = (df_hist['Tavg'] - base_cdd).clip(lower = 0)"
   ]
  },
  {
   "cell_type": "code",
   "execution_count": 32,
   "id": "6ae0ac28-8c62-4900-9bf0-b94a63590449",
   "metadata": {},
   "outputs": [
    {
     "data": {
      "text/html": [
       "<div>\n",
       "<style scoped>\n",
       "    .dataframe tbody tr th:only-of-type {\n",
       "        vertical-align: middle;\n",
       "    }\n",
       "\n",
       "    .dataframe tbody tr th {\n",
       "        vertical-align: top;\n",
       "    }\n",
       "\n",
       "    .dataframe thead th {\n",
       "        text-align: right;\n",
       "    }\n",
       "</style>\n",
       "<table border=\"1\" class=\"dataframe\">\n",
       "  <thead>\n",
       "    <tr style=\"text-align: right;\">\n",
       "      <th></th>\n",
       "      <th>Year</th>\n",
       "      <th>HDD</th>\n",
       "      <th>CDD</th>\n",
       "    </tr>\n",
       "  </thead>\n",
       "  <tbody>\n",
       "    <tr>\n",
       "      <th>0</th>\n",
       "      <td>2013</td>\n",
       "      <td>2499.046410</td>\n",
       "      <td>0.00000</td>\n",
       "    </tr>\n",
       "    <tr>\n",
       "      <th>1</th>\n",
       "      <td>2014</td>\n",
       "      <td>2011.261485</td>\n",
       "      <td>0.00000</td>\n",
       "    </tr>\n",
       "    <tr>\n",
       "      <th>2</th>\n",
       "      <td>2015</td>\n",
       "      <td>2271.191660</td>\n",
       "      <td>0.96430</td>\n",
       "    </tr>\n",
       "    <tr>\n",
       "      <th>3</th>\n",
       "      <td>2016</td>\n",
       "      <td>2263.322705</td>\n",
       "      <td>0.00000</td>\n",
       "    </tr>\n",
       "    <tr>\n",
       "      <th>4</th>\n",
       "      <td>2017</td>\n",
       "      <td>2146.488055</td>\n",
       "      <td>0.00000</td>\n",
       "    </tr>\n",
       "    <tr>\n",
       "      <th>5</th>\n",
       "      <td>2018</td>\n",
       "      <td>2247.620870</td>\n",
       "      <td>0.00000</td>\n",
       "    </tr>\n",
       "    <tr>\n",
       "      <th>6</th>\n",
       "      <td>2019</td>\n",
       "      <td>2252.830760</td>\n",
       "      <td>1.17430</td>\n",
       "    </tr>\n",
       "    <tr>\n",
       "      <th>7</th>\n",
       "      <td>2020</td>\n",
       "      <td>2178.075030</td>\n",
       "      <td>0.46897</td>\n",
       "    </tr>\n",
       "    <tr>\n",
       "      <th>8</th>\n",
       "      <td>2021</td>\n",
       "      <td>2279.942655</td>\n",
       "      <td>0.00000</td>\n",
       "    </tr>\n",
       "    <tr>\n",
       "      <th>9</th>\n",
       "      <td>2022</td>\n",
       "      <td>2050.093350</td>\n",
       "      <td>7.20901</td>\n",
       "    </tr>\n",
       "    <tr>\n",
       "      <th>10</th>\n",
       "      <td>2023</td>\n",
       "      <td>2027.418095</td>\n",
       "      <td>0.00000</td>\n",
       "    </tr>\n",
       "  </tbody>\n",
       "</table>\n",
       "</div>"
      ],
      "text/plain": [
       "    Year          HDD      CDD\n",
       "0   2013  2499.046410  0.00000\n",
       "1   2014  2011.261485  0.00000\n",
       "2   2015  2271.191660  0.96430\n",
       "3   2016  2263.322705  0.00000\n",
       "4   2017  2146.488055  0.00000\n",
       "5   2018  2247.620870  0.00000\n",
       "6   2019  2252.830760  1.17430\n",
       "7   2020  2178.075030  0.46897\n",
       "8   2021  2279.942655  0.00000\n",
       "9   2022  2050.093350  7.20901\n",
       "10  2023  2027.418095  0.00000"
      ]
     },
     "execution_count": 32,
     "metadata": {},
     "output_type": "execute_result"
    }
   ],
   "source": [
    "# aggregate by years\n",
    "df_hdd_cdd_by_year = df_hist.groupby(df_hist['Date'].dt.year)[['HDD', 'CDD']].sum().reset_index()\n",
    "df_hdd_cdd_by_year.rename(columns = {'Date' : 'Year'}, inplace = True)\n",
    "df_hdd_cdd_by_year"
   ]
  },
  {
   "cell_type": "markdown",
   "id": "f75265a4-c6c0-4bfd-9b9b-2620d8ec6bcc",
   "metadata": {},
   "source": [
    "## 1.2 future data"
   ]
  },
  {
   "cell_type": "code",
   "execution_count": 35,
   "id": "290be507-9c24-4078-b527-be6808c40f98",
   "metadata": {},
   "outputs": [],
   "source": [
    "# select members' data which covers 2024-2035"
   ]
  },
  {
   "cell_type": "code",
   "execution_count": 37,
   "id": "c5d6b26c-7b21-4774-8101-1dd1e30f8d8e",
   "metadata": {},
   "outputs": [],
   "source": [
    "file_names = [\n",
    "    '01.csv', '05.csv', '06.csv', '07.csv', '08.csv', '10.csv',\n",
    "    '11.csv', '12.csv', '13.csv', '15.csv', '25.csv'\n",
    "]\n",
    "\n",
    "# baseline\n",
    "base_hdd = 15.5\n",
    "base_cdd = 22.0\n",
    "\n",
    "member_hdd_cdd_list = []\n",
    "\n",
    "for file in file_names:\n",
    "    try:\n",
    "        df = pd.read_csv(file, skiprows = 13)\n",
    "        df.rename(columns = {df.columns[0]: 'Date', df.columns[1]: 'Tavg'}, inplace = True)\n",
    "        \n",
    "        # type converting\n",
    "        df['Date'] = pd.to_datetime(df['Date'], errors = 'coerce')\n",
    "        df['Tavg'] = pd.to_numeric(df['Tavg'], errors = 'coerce')\n",
    "        df = df.dropna(subset = ['Date', 'Tavg'])\n",
    "        \n",
    "        # filter target time period\n",
    "        df = df[(df['Date'] >= '2024-01-01') & (df['Date'] <= '2035-12-31')]\n",
    "        \n",
    "        # calculate HDD/CDD\n",
    "        df['HDD'] = (base_hdd - df['Tavg']).clip(lower = 0)\n",
    "        df['CDD'] = (df['Tavg'] - base_cdd).clip(lower = 0)\n",
    "        df['Year'] = df['Date'].dt.year\n",
    "        \n",
    "        # aggregate by years\n",
    "        df_year = df.groupby('Year')[['HDD', 'CDD']].sum().reset_index()\n",
    "        df_year['Member'] = file.replace('.csv', '')\n",
    "        member_hdd_cdd_list.append(df_year)\n",
    "\n",
    "    except Exception as e:\n",
    "        print(f'file {name} error: {e}')"
   ]
  },
  {
   "cell_type": "code",
   "execution_count": 39,
   "id": "1a4056fd-3ce0-4e91-b858-63ca5fbf57ba",
   "metadata": {},
   "outputs": [
    {
     "name": "stdout",
     "output_type": "stream",
     "text": [
      "   Year          HDD        CDD Member\n",
      "0  2024  2193.201448   0.000000     01\n",
      "1  2025  2111.237928  10.813436     01\n",
      "2  2026  1787.842559   1.212643     01\n",
      "3  2027  1957.265880   0.000000     01\n",
      "4  2028  2250.289332   2.921132     01\n"
     ]
    }
   ],
   "source": [
    "# merge all members\n",
    "df_future_hdd_cdd_all = pd.concat(member_hdd_cdd_list, ignore_index=True)\n",
    "\n",
    "print(df_future_hdd_cdd_all.head())"
   ]
  },
  {
   "cell_type": "code",
   "execution_count": 41,
   "id": "cf51f041-64e0-495d-81a1-941dbaa9f0ff",
   "metadata": {},
   "outputs": [
    {
     "name": "stdout",
     "output_type": "stream",
     "text": [
      "<class 'pandas.core.frame.DataFrame'>\n",
      "RangeIndex: 132 entries, 0 to 131\n",
      "Data columns (total 4 columns):\n",
      " #   Column  Non-Null Count  Dtype  \n",
      "---  ------  --------------  -----  \n",
      " 0   Year    132 non-null    int32  \n",
      " 1   HDD     132 non-null    float64\n",
      " 2   CDD     132 non-null    float64\n",
      " 3   Member  132 non-null    object \n",
      "dtypes: float64(2), int32(1), object(1)\n",
      "memory usage: 3.7+ KB\n"
     ]
    }
   ],
   "source": [
    "df_future_hdd_cdd_all.info()"
   ]
  },
  {
   "cell_type": "code",
   "execution_count": 43,
   "id": "5c28348a-5b9c-4198-be19-48e31114f64b",
   "metadata": {},
   "outputs": [],
   "source": [
    "df_future_avg = df_future_hdd_cdd_all.groupby('Year')[['HDD', 'CDD']].mean().reset_index()"
   ]
  },
  {
   "cell_type": "code",
   "execution_count": 45,
   "id": "b841ab54-2f09-4448-aaf7-c93f4687bacb",
   "metadata": {},
   "outputs": [],
   "source": [
    "# export\n",
    "df_future_avg.to_csv('future_HDD_CDD_2024_2035.csv', index=False)\n",
    "df_hdd_cdd_by_year.to_csv('history_HDD_CDD_2013_2023.csv', index=False)"
   ]
  },
  {
   "cell_type": "code",
   "execution_count": 47,
   "id": "b7377132-dd3d-48e9-925b-7ac1f12bce41",
   "metadata": {},
   "outputs": [],
   "source": [
    "# combine\n",
    "df_combined = pd.concat([df_hdd_cdd_by_year, df_future_avg], ignore_index=True)"
   ]
  },
  {
   "cell_type": "code",
   "execution_count": 49,
   "id": "2918a1e5-aa64-4070-b60e-c3c896635278",
   "metadata": {},
   "outputs": [
    {
     "data": {
      "text/html": [
       "<div>\n",
       "<style scoped>\n",
       "    .dataframe tbody tr th:only-of-type {\n",
       "        vertical-align: middle;\n",
       "    }\n",
       "\n",
       "    .dataframe tbody tr th {\n",
       "        vertical-align: top;\n",
       "    }\n",
       "\n",
       "    .dataframe thead th {\n",
       "        text-align: right;\n",
       "    }\n",
       "</style>\n",
       "<table border=\"1\" class=\"dataframe\">\n",
       "  <thead>\n",
       "    <tr style=\"text-align: right;\">\n",
       "      <th></th>\n",
       "      <th>Year</th>\n",
       "      <th>HDD</th>\n",
       "      <th>CDD</th>\n",
       "    </tr>\n",
       "  </thead>\n",
       "  <tbody>\n",
       "    <tr>\n",
       "      <th>0</th>\n",
       "      <td>2013</td>\n",
       "      <td>2499.046410</td>\n",
       "      <td>0.000000</td>\n",
       "    </tr>\n",
       "    <tr>\n",
       "      <th>1</th>\n",
       "      <td>2014</td>\n",
       "      <td>2011.261485</td>\n",
       "      <td>0.000000</td>\n",
       "    </tr>\n",
       "    <tr>\n",
       "      <th>2</th>\n",
       "      <td>2015</td>\n",
       "      <td>2271.191660</td>\n",
       "      <td>0.964300</td>\n",
       "    </tr>\n",
       "    <tr>\n",
       "      <th>3</th>\n",
       "      <td>2016</td>\n",
       "      <td>2263.322705</td>\n",
       "      <td>0.000000</td>\n",
       "    </tr>\n",
       "    <tr>\n",
       "      <th>4</th>\n",
       "      <td>2017</td>\n",
       "      <td>2146.488055</td>\n",
       "      <td>0.000000</td>\n",
       "    </tr>\n",
       "    <tr>\n",
       "      <th>5</th>\n",
       "      <td>2018</td>\n",
       "      <td>2247.620870</td>\n",
       "      <td>0.000000</td>\n",
       "    </tr>\n",
       "    <tr>\n",
       "      <th>6</th>\n",
       "      <td>2019</td>\n",
       "      <td>2252.830760</td>\n",
       "      <td>1.174300</td>\n",
       "    </tr>\n",
       "    <tr>\n",
       "      <th>7</th>\n",
       "      <td>2020</td>\n",
       "      <td>2178.075030</td>\n",
       "      <td>0.468970</td>\n",
       "    </tr>\n",
       "    <tr>\n",
       "      <th>8</th>\n",
       "      <td>2021</td>\n",
       "      <td>2279.942655</td>\n",
       "      <td>0.000000</td>\n",
       "    </tr>\n",
       "    <tr>\n",
       "      <th>9</th>\n",
       "      <td>2022</td>\n",
       "      <td>2050.093350</td>\n",
       "      <td>7.209010</td>\n",
       "    </tr>\n",
       "    <tr>\n",
       "      <th>10</th>\n",
       "      <td>2023</td>\n",
       "      <td>2027.418095</td>\n",
       "      <td>0.000000</td>\n",
       "    </tr>\n",
       "    <tr>\n",
       "      <th>11</th>\n",
       "      <td>2024</td>\n",
       "      <td>2263.498693</td>\n",
       "      <td>0.154267</td>\n",
       "    </tr>\n",
       "    <tr>\n",
       "      <th>12</th>\n",
       "      <td>2025</td>\n",
       "      <td>2234.948766</td>\n",
       "      <td>4.987308</td>\n",
       "    </tr>\n",
       "    <tr>\n",
       "      <th>13</th>\n",
       "      <td>2026</td>\n",
       "      <td>2258.933495</td>\n",
       "      <td>2.072625</td>\n",
       "    </tr>\n",
       "    <tr>\n",
       "      <th>14</th>\n",
       "      <td>2027</td>\n",
       "      <td>2215.270682</td>\n",
       "      <td>3.580656</td>\n",
       "    </tr>\n",
       "    <tr>\n",
       "      <th>15</th>\n",
       "      <td>2028</td>\n",
       "      <td>2239.146491</td>\n",
       "      <td>2.473599</td>\n",
       "    </tr>\n",
       "    <tr>\n",
       "      <th>16</th>\n",
       "      <td>2029</td>\n",
       "      <td>2198.428819</td>\n",
       "      <td>1.614273</td>\n",
       "    </tr>\n",
       "    <tr>\n",
       "      <th>17</th>\n",
       "      <td>2030</td>\n",
       "      <td>2187.992712</td>\n",
       "      <td>2.884748</td>\n",
       "    </tr>\n",
       "    <tr>\n",
       "      <th>18</th>\n",
       "      <td>2031</td>\n",
       "      <td>2186.786893</td>\n",
       "      <td>1.039605</td>\n",
       "    </tr>\n",
       "    <tr>\n",
       "      <th>19</th>\n",
       "      <td>2032</td>\n",
       "      <td>2232.094513</td>\n",
       "      <td>2.369957</td>\n",
       "    </tr>\n",
       "    <tr>\n",
       "      <th>20</th>\n",
       "      <td>2033</td>\n",
       "      <td>2166.354805</td>\n",
       "      <td>1.710552</td>\n",
       "    </tr>\n",
       "    <tr>\n",
       "      <th>21</th>\n",
       "      <td>2034</td>\n",
       "      <td>2188.879558</td>\n",
       "      <td>3.024349</td>\n",
       "    </tr>\n",
       "    <tr>\n",
       "      <th>22</th>\n",
       "      <td>2035</td>\n",
       "      <td>2179.395563</td>\n",
       "      <td>0.879885</td>\n",
       "    </tr>\n",
       "  </tbody>\n",
       "</table>\n",
       "</div>"
      ],
      "text/plain": [
       "    Year          HDD       CDD\n",
       "0   2013  2499.046410  0.000000\n",
       "1   2014  2011.261485  0.000000\n",
       "2   2015  2271.191660  0.964300\n",
       "3   2016  2263.322705  0.000000\n",
       "4   2017  2146.488055  0.000000\n",
       "5   2018  2247.620870  0.000000\n",
       "6   2019  2252.830760  1.174300\n",
       "7   2020  2178.075030  0.468970\n",
       "8   2021  2279.942655  0.000000\n",
       "9   2022  2050.093350  7.209010\n",
       "10  2023  2027.418095  0.000000\n",
       "11  2024  2263.498693  0.154267\n",
       "12  2025  2234.948766  4.987308\n",
       "13  2026  2258.933495  2.072625\n",
       "14  2027  2215.270682  3.580656\n",
       "15  2028  2239.146491  2.473599\n",
       "16  2029  2198.428819  1.614273\n",
       "17  2030  2187.992712  2.884748\n",
       "18  2031  2186.786893  1.039605\n",
       "19  2032  2232.094513  2.369957\n",
       "20  2033  2166.354805  1.710552\n",
       "21  2034  2188.879558  3.024349\n",
       "22  2035  2179.395563  0.879885"
      ]
     },
     "execution_count": 49,
     "metadata": {},
     "output_type": "execute_result"
    }
   ],
   "source": [
    "df_combined"
   ]
  },
  {
   "cell_type": "code",
   "execution_count": 51,
   "id": "43450a22-b9e9-4f16-a03b-c1ac9365088f",
   "metadata": {},
   "outputs": [],
   "source": [
    "df_combined.to_csv('HDD_CDD_2013_2035.csv', index=False)"
   ]
  },
  {
   "cell_type": "code",
   "execution_count": null,
   "id": "fcef5dfe-d913-4d0a-bb61-2590acc292d2",
   "metadata": {},
   "outputs": [],
   "source": []
  }
 ],
 "metadata": {
  "kernelspec": {
   "display_name": "Python 3 (ipykernel)",
   "language": "python",
   "name": "python3"
  },
  "language_info": {
   "codemirror_mode": {
    "name": "ipython",
    "version": 3
   },
   "file_extension": ".py",
   "mimetype": "text/x-python",
   "name": "python",
   "nbconvert_exporter": "python",
   "pygments_lexer": "ipython3",
   "version": "3.12.4"
  }
 },
 "nbformat": 4,
 "nbformat_minor": 5
}
