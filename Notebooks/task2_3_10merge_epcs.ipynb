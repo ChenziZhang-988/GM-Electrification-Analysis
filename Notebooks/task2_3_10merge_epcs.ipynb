{
 "cells": [
  {
   "cell_type": "markdown",
   "id": "9c9f6f1e-162a-429c-983a-6b0038bfd9f7",
   "metadata": {},
   "source": [
    "# Step1 Packaging data, clean the other nine regions, similar to Bolton"
   ]
  },
  {
   "cell_type": "code",
   "execution_count": 6,
   "id": "5404f59f-1d3c-47fd-9d63-1f24abc893c1",
   "metadata": {},
   "outputs": [],
   "source": [
    "import pandas as pd\n",
    "\n",
    "# dealing with nine regions\n",
    "def process_epc_by_area(file_name, area_code):\n",
    "    df = pd.read_csv(file_name)\n",
    "\n",
    "    # convert datatime, remove missing date rows\n",
    "    df[\"INSPECTION_DATE\"] = pd.to_datetime(df[\"INSPECTION_DATE\"], errors=\"coerce\")\n",
    "    df = df.dropna(subset=[\"INSPECTION_DATE\"])\n",
    "    # filter period\n",
    "    df[\"year\"] = df[\"INSPECTION_DATE\"].dt.year\n",
    "    df = df[(df[\"year\"] >= 2013) & (df[\"year\"] <= 2023)]\n",
    "    # remove missing values\n",
    "    df = df.dropna(subset=[\n",
    "        \"ENERGY_CONSUMPTION_CURRENT\",\n",
    "        \"TOTAL_FLOOR_AREA\",\n",
    "        \"MAIN_FUEL\",\n",
    "        \"PROPERTY_TYPE\",\n",
    "        \"BUILT_FORM\",\n",
    "        \"BUILDING_REFERENCE_NUMBER\"    \n",
    "    ])\n",
    "    # newest record of each building\n",
    "    df = df.sort_values(by=[\"BUILDING_REFERENCE_NUMBER\", \"INSPECTION_DATE\"])\n",
    "    df = df.groupby([\"BUILDING_REFERENCE_NUMBER\", \"year\"]).tail(1).reset_index(drop=True)\n",
    "    \n",
    "    df['LOCAL_AUTHORITY'] = area_code\n",
    "    return df"
   ]
  },
  {
   "cell_type": "markdown",
   "id": "0c8e0f85-7d61-4cf7-a0ee-61df8439822d",
   "metadata": {},
   "source": [
    "# Step2 nine regions call the fuction, mark lacode"
   ]
  },
  {
   "cell_type": "code",
   "execution_count": 8,
   "id": "d7eafefe-4650-4690-8a5d-a6a16172ccb2",
   "metadata": {},
   "outputs": [
    {
     "name": "stdout",
     "output_type": "stream",
     "text": [
      "Handling: Bury (Bury.csv)\n"
     ]
    },
    {
     "name": "stderr",
     "output_type": "stream",
     "text": [
      "C:\\Users\\chen\\AppData\\Local\\Temp\\ipykernel_19784\\1303346672.py:5: DtypeWarning: Columns (34,37) have mixed types. Specify dtype option on import or set low_memory=False.\n",
      "  df = pd.read_csv(file_name)\n"
     ]
    },
    {
     "name": "stdout",
     "output_type": "stream",
     "text": [
      "Bury done. 54508 rows retained.\n",
      "Handling: Manchester (Manchester.csv)\n"
     ]
    },
    {
     "name": "stderr",
     "output_type": "stream",
     "text": [
      "C:\\Users\\chen\\AppData\\Local\\Temp\\ipykernel_19784\\1303346672.py:5: DtypeWarning: Columns (37,83) have mixed types. Specify dtype option on import or set low_memory=False.\n",
      "  df = pd.read_csv(file_name)\n"
     ]
    },
    {
     "name": "stdout",
     "output_type": "stream",
     "text": [
      "Manchester done. 192634 rows retained.\n",
      "Handling: Oldham (Oldham.csv)\n"
     ]
    },
    {
     "name": "stderr",
     "output_type": "stream",
     "text": [
      "C:\\Users\\chen\\AppData\\Local\\Temp\\ipykernel_19784\\1303346672.py:5: DtypeWarning: Columns (34,37) have mixed types. Specify dtype option on import or set low_memory=False.\n",
      "  df = pd.read_csv(file_name)\n"
     ]
    },
    {
     "name": "stdout",
     "output_type": "stream",
     "text": [
      "Oldham done. 65988 rows retained.\n",
      "Handling: Rochdale (Rochdale.csv)\n"
     ]
    },
    {
     "name": "stderr",
     "output_type": "stream",
     "text": [
      "C:\\Users\\chen\\AppData\\Local\\Temp\\ipykernel_19784\\1303346672.py:5: DtypeWarning: Columns (15,34,83) have mixed types. Specify dtype option on import or set low_memory=False.\n",
      "  df = pd.read_csv(file_name)\n"
     ]
    },
    {
     "name": "stdout",
     "output_type": "stream",
     "text": [
      "Rochdale done. 62536 rows retained.\n",
      "Handling: Salford (Salford.csv)\n"
     ]
    },
    {
     "name": "stderr",
     "output_type": "stream",
     "text": [
      "C:\\Users\\chen\\AppData\\Local\\Temp\\ipykernel_19784\\1303346672.py:5: DtypeWarning: Columns (15,37,83) have mixed types. Specify dtype option on import or set low_memory=False.\n",
      "  df = pd.read_csv(file_name)\n"
     ]
    },
    {
     "name": "stdout",
     "output_type": "stream",
     "text": [
      "Salford done. 104425 rows retained.\n",
      "Handling: Stockport (Stockport.csv)\n"
     ]
    },
    {
     "name": "stderr",
     "output_type": "stream",
     "text": [
      "C:\\Users\\chen\\AppData\\Local\\Temp\\ipykernel_19784\\1303346672.py:5: DtypeWarning: Columns (34) have mixed types. Specify dtype option on import or set low_memory=False.\n",
      "  df = pd.read_csv(file_name)\n"
     ]
    },
    {
     "name": "stdout",
     "output_type": "stream",
     "text": [
      "Stockport done. 77074 rows retained.\n",
      "Handling: Tameside (Tameside.csv)\n"
     ]
    },
    {
     "name": "stderr",
     "output_type": "stream",
     "text": [
      "C:\\Users\\chen\\AppData\\Local\\Temp\\ipykernel_19784\\1303346672.py:5: DtypeWarning: Columns (34) have mixed types. Specify dtype option on import or set low_memory=False.\n",
      "  df = pd.read_csv(file_name)\n"
     ]
    },
    {
     "name": "stdout",
     "output_type": "stream",
     "text": [
      "Tameside done. 70667 rows retained.\n",
      "Handling: Trafford (Trafford.csv)\n",
      "Trafford done. 61320 rows retained.\n",
      "Handling: Wigan (Wigan.csv)\n"
     ]
    },
    {
     "name": "stderr",
     "output_type": "stream",
     "text": [
      "C:\\Users\\chen\\AppData\\Local\\Temp\\ipykernel_19784\\1303346672.py:5: DtypeWarning: Columns (34,37) have mixed types. Specify dtype option on import or set low_memory=False.\n",
      "  df = pd.read_csv(file_name)\n"
     ]
    },
    {
     "name": "stdout",
     "output_type": "stream",
     "text": [
      "Wigan done. 86873 rows retained.\n"
     ]
    }
   ],
   "source": [
    "area_code_map = {\n",
    "    \"Bury\": \"E08000002\",\n",
    "    \"Manchester\": \"E08000003\",\n",
    "    \"Oldham\": \"E08000004\",\n",
    "    \"Rochdale\": \"E08000005\",\n",
    "    \"Salford\": \"E08000006\",\n",
    "    \"Stockport\": \"E08000007\",\n",
    "    \"Tameside\": \"E08000008\",\n",
    "    \"Trafford\": \"E08000009\",\n",
    "    \"Wigan\": \"E08000010\",\n",
    "}\n",
    "\n",
    "area_dfs = []\n",
    "for area_name, area_code in area_code_map.items():\n",
    "    filename = f\"{area_name}.csv\"\n",
    "    print(f\"Handling: {area_name} ({filename})\")\n",
    "    df = process_epc_by_area(filename, area_code)\n",
    "    area_dfs.append(df)\n",
    "    print(f\"{area_name} done. {df.shape[0]} rows retained.\")"
   ]
  },
  {
   "cell_type": "markdown",
   "id": "28bfb2ed-14a9-4df5-903a-f7bd6dd7fd80",
   "metadata": {},
   "source": [
    "# Step3 Merge all 10 regions"
   ]
  },
  {
   "cell_type": "code",
   "execution_count": 11,
   "id": "c9da2c9d-c586-4cc4-b7dd-fc55656555a5",
   "metadata": {},
   "outputs": [
    {
     "name": "stderr",
     "output_type": "stream",
     "text": [
      "C:\\Users\\chen\\AppData\\Local\\Temp\\ipykernel_19784\\2743022094.py:3: DtypeWarning: Columns (31) have mixed types. Specify dtype option on import or set low_memory=False.\n",
      "  bolton_df = pd.read_csv(\"cleaned_epc_certificates.csv\", parse_dates=[\"INSPECTION_DATE\"])\n"
     ]
    },
    {
     "name": "stdout",
     "output_type": "stream",
     "text": [
      "datetime64[ns]\n",
      "datetime64[ns]\n"
     ]
    }
   ],
   "source": [
    "# two datesets\n",
    "combined_df = pd.concat(area_dfs, ignore_index=True)\n",
    "bolton_df = pd.read_csv(\"cleaned_epc_certificates.csv\", parse_dates=[\"INSPECTION_DATE\"])\n",
    "\n",
    "bolton_cols = bolton_df.columns\n",
    "\n",
    "# remain cols Bolton has\n",
    "combined_df = combined_df[bolton_cols]\n",
    "\n",
    "# Check dtypes\n",
    "print(bolton_df[\"INSPECTION_DATE\"].dtype)\n",
    "print(combined_df[\"INSPECTION_DATE\"].dtype)"
   ]
  },
  {
   "cell_type": "code",
   "execution_count": 13,
   "id": "0d9fce11-f145-4fdf-a687-946ae746e6c2",
   "metadata": {},
   "outputs": [
    {
     "name": "stdout",
     "output_type": "stream",
     "text": [
      "<class 'pandas.core.frame.DataFrame'>\n",
      "RangeIndex: 854276 entries, 0 to 854275\n",
      "Data columns (total 84 columns):\n",
      " #   Column                         Non-Null Count   Dtype         \n",
      "---  ------                         --------------   -----         \n",
      " 0   LMK_KEY                        854276 non-null  object        \n",
      " 1   ADDRESS1                       854276 non-null  object        \n",
      " 2   ADDRESS2                       474554 non-null  object        \n",
      " 3   POSTCODE                       854276 non-null  object        \n",
      " 4   BUILDING_REFERENCE_NUMBER      854276 non-null  int64         \n",
      " 5   CURRENT_ENERGY_RATING          854276 non-null  object        \n",
      " 6   POTENTIAL_ENERGY_RATING        854276 non-null  object        \n",
      " 7   CURRENT_ENERGY_EFFICIENCY      854276 non-null  int64         \n",
      " 8   POTENTIAL_ENERGY_EFFICIENCY    854276 non-null  int64         \n",
      " 9   PROPERTY_TYPE                  854276 non-null  object        \n",
      " 10  BUILT_FORM                     854276 non-null  object        \n",
      " 11  INSPECTION_DATE                854276 non-null  datetime64[ns]\n",
      " 12  CONSTITUENCY                   854276 non-null  object        \n",
      " 13  LODGEMENT_DATE                 854276 non-null  object        \n",
      " 14  TRANSACTION_TYPE               854276 non-null  object        \n",
      " 15  ENVIRONMENT_IMPACT_CURRENT     854276 non-null  int64         \n",
      " 16  ENVIRONMENT_IMPACT_POTENTIAL   854276 non-null  int64         \n",
      " 17  ENERGY_CONSUMPTION_CURRENT     854276 non-null  int64         \n",
      " 18  ENERGY_CONSUMPTION_POTENTIAL   854276 non-null  float64       \n",
      " 19  CO2_EMISSIONS_CURRENT          854276 non-null  float64       \n",
      " 20  CO2_EMISS_CURR_PER_FLOOR_AREA  854276 non-null  int64         \n",
      " 21  CO2_EMISSIONS_POTENTIAL        854276 non-null  float64       \n",
      " 22  LIGHTING_COST_CURRENT          854276 non-null  float64       \n",
      " 23  LIGHTING_COST_POTENTIAL        854276 non-null  float64       \n",
      " 24  HEATING_COST_CURRENT           854276 non-null  float64       \n",
      " 25  HEATING_COST_POTENTIAL         854276 non-null  float64       \n",
      " 26  HOT_WATER_COST_CURRENT         854276 non-null  float64       \n",
      " 27  HOT_WATER_COST_POTENTIAL       854276 non-null  float64       \n",
      " 28  TOTAL_FLOOR_AREA               854276 non-null  float64       \n",
      " 29  ENERGY_TARIFF                  854255 non-null  object        \n",
      " 30  MAINS_GAS_FLAG                 754448 non-null  object        \n",
      " 31  FLOOR_LEVEL                    692550 non-null  object        \n",
      " 32  FLAT_TOP_STOREY                224305 non-null  object        \n",
      " 33  MAIN_HEATING_CONTROLS          542286 non-null  object        \n",
      " 34  MULTI_GLAZE_PROPORTION         785948 non-null  float64       \n",
      " 35  GLAZED_TYPE                    819624 non-null  object        \n",
      " 36  GLAZED_AREA                    819624 non-null  object        \n",
      " 37  EXTENSION_COUNT                754448 non-null  float64       \n",
      " 38  NUMBER_HABITABLE_ROOMS         754448 non-null  float64       \n",
      " 39  NUMBER_HEATED_ROOMS            754448 non-null  float64       \n",
      " 40  LOW_ENERGY_LIGHTING            829155 non-null  float64       \n",
      " 41  HOTWATER_DESCRIPTION           854275 non-null  object        \n",
      " 42  HOT_WATER_ENERGY_EFF           854276 non-null  object        \n",
      " 43  HOT_WATER_ENV_EFF              854272 non-null  object        \n",
      " 44  FLOOR_DESCRIPTION              854276 non-null  object        \n",
      " 45  FLOOR_ENERGY_EFF               393701 non-null  object        \n",
      " 46  WINDOWS_DESCRIPTION            854272 non-null  object        \n",
      " 47  WINDOWS_ENERGY_EFF             854272 non-null  object        \n",
      " 48  WINDOWS_ENV_EFF                854272 non-null  object        \n",
      " 49  WALLS_DESCRIPTION              854276 non-null  object        \n",
      " 50  WALLS_ENERGY_EFF               854270 non-null  object        \n",
      " 51  WALLS_ENV_EFF                  854270 non-null  object        \n",
      " 52  SECONDHEAT_DESCRIPTION         346900 non-null  object        \n",
      " 53  ROOF_DESCRIPTION               854250 non-null  object        \n",
      " 54  ROOF_ENERGY_EFF                697557 non-null  object        \n",
      " 55  ROOF_ENV_EFF                   697557 non-null  object        \n",
      " 56  MAINHEAT_DESCRIPTION           854276 non-null  object        \n",
      " 57  MAINHEAT_ENERGY_EFF            854276 non-null  object        \n",
      " 58  MAINHEAT_ENV_EFF               854276 non-null  object        \n",
      " 59  MAINHEATCONT_DESCRIPTION       851398 non-null  object        \n",
      " 60  MAINHEATC_ENERGY_EFF           854273 non-null  object        \n",
      " 61  MAINHEATC_ENV_EFF              854273 non-null  object        \n",
      " 62  LIGHTING_DESCRIPTION           854276 non-null  object        \n",
      " 63  LIGHTING_ENERGY_EFF            854276 non-null  object        \n",
      " 64  LIGHTING_ENV_EFF               854276 non-null  object        \n",
      " 65  MAIN_FUEL                      854276 non-null  object        \n",
      " 66  HEAT_LOSS_CORRIDOR             672648 non-null  object        \n",
      " 67  FLOOR_HEIGHT                   287314 non-null  float64       \n",
      " 68  PHOTO_SUPPLY                   416012 non-null  float64       \n",
      " 69  SOLAR_WATER_HEATING_FLAG       547255 non-null  object        \n",
      " 70  MECHANICAL_VENTILATION         819624 non-null  object        \n",
      " 71  ADDRESS                        854276 non-null  object        \n",
      " 72  CONSTITUENCY_LABEL             854177 non-null  object        \n",
      " 73  POSTTOWN                       848323 non-null  object        \n",
      " 74  CONSTRUCTION_AGE_BAND          847570 non-null  object        \n",
      " 75  LODGEMENT_DATETIME             854276 non-null  object        \n",
      " 76  TENURE                         854276 non-null  object        \n",
      " 77  FIXED_LIGHTING_OUTLETS_COUNT   518990 non-null  float64       \n",
      " 78  LOW_ENERGY_FIXED_LIGHT_COUNT   307984 non-null  float64       \n",
      " 79  UPRN                           846131 non-null  float64       \n",
      " 80  UPRN_SOURCE                    846131 non-null  object        \n",
      " 81  REPORT_TYPE                    854276 non-null  int64         \n",
      " 82  year                           854276 non-null  int64         \n",
      " 83  LOCAL_AUTHORITY                854276 non-null  object        \n",
      "dtypes: datetime64[ns](1), float64(20), int64(9), object(54)\n",
      "memory usage: 547.5+ MB\n"
     ]
    }
   ],
   "source": [
    "# Merge\n",
    "epc_all_df = pd.concat([bolton_df, combined_df], ignore_index=True)\n",
    "\n",
    "# Checking\n",
    "epc_all_df.info()"
   ]
  },
  {
   "cell_type": "markdown",
   "id": "3d6ecbb4-f5a9-4eab-ae60-58deabcff7ec",
   "metadata": {},
   "source": [
    "# Step4 Sparsity analysis and labeling"
   ]
  },
  {
   "cell_type": "code",
   "execution_count": 16,
   "id": "09917692-da44-43f3-be96-f25c0e1fa847",
   "metadata": {},
   "outputs": [
    {
     "name": "stdout",
     "output_type": "stream",
     "text": [
      "\n",
      "Field sparsity and retention suggestions\n",
      "========================================\n"
     ]
    },
    {
     "data": {
      "text/html": [
       "<div>\n",
       "<style scoped>\n",
       "    .dataframe tbody tr th:only-of-type {\n",
       "        vertical-align: middle;\n",
       "    }\n",
       "\n",
       "    .dataframe tbody tr th {\n",
       "        vertical-align: top;\n",
       "    }\n",
       "\n",
       "    .dataframe thead th {\n",
       "        text-align: right;\n",
       "    }\n",
       "</style>\n",
       "<table border=\"1\" class=\"dataframe\">\n",
       "  <thead>\n",
       "    <tr style=\"text-align: right;\">\n",
       "      <th></th>\n",
       "      <th>missing_ratio</th>\n",
       "      <th>zero_ratio</th>\n",
       "      <th>unique_count</th>\n",
       "      <th>keep_tag</th>\n",
       "    </tr>\n",
       "  </thead>\n",
       "  <tbody>\n",
       "    <tr>\n",
       "      <th>LMK_KEY</th>\n",
       "      <td>0.000000</td>\n",
       "      <td>NaN</td>\n",
       "      <td>854276</td>\n",
       "      <td>keep_core</td>\n",
       "    </tr>\n",
       "    <tr>\n",
       "      <th>ADDRESS1</th>\n",
       "      <td>0.000000</td>\n",
       "      <td>NaN</td>\n",
       "      <td>658341</td>\n",
       "      <td>keep_core</td>\n",
       "    </tr>\n",
       "    <tr>\n",
       "      <th>ADDRESS2</th>\n",
       "      <td>0.444496</td>\n",
       "      <td>NaN</td>\n",
       "      <td>21523</td>\n",
       "      <td>keep_core</td>\n",
       "    </tr>\n",
       "    <tr>\n",
       "      <th>POSTCODE</th>\n",
       "      <td>0.000000</td>\n",
       "      <td>NaN</td>\n",
       "      <td>61196</td>\n",
       "      <td>keep_core</td>\n",
       "    </tr>\n",
       "    <tr>\n",
       "      <th>BUILDING_REFERENCE_NUMBER</th>\n",
       "      <td>0.000000</td>\n",
       "      <td>0.0</td>\n",
       "      <td>788699</td>\n",
       "      <td>keep_core</td>\n",
       "    </tr>\n",
       "    <tr>\n",
       "      <th>...</th>\n",
       "      <td>...</td>\n",
       "      <td>...</td>\n",
       "      <td>...</td>\n",
       "      <td>...</td>\n",
       "    </tr>\n",
       "    <tr>\n",
       "      <th>UPRN</th>\n",
       "      <td>0.009534</td>\n",
       "      <td>0.0</td>\n",
       "      <td>737422</td>\n",
       "      <td>keep_core</td>\n",
       "    </tr>\n",
       "    <tr>\n",
       "      <th>UPRN_SOURCE</th>\n",
       "      <td>0.009534</td>\n",
       "      <td>NaN</td>\n",
       "      <td>3</td>\n",
       "      <td>keep_core</td>\n",
       "    </tr>\n",
       "    <tr>\n",
       "      <th>REPORT_TYPE</th>\n",
       "      <td>0.000000</td>\n",
       "      <td>0.0</td>\n",
       "      <td>2</td>\n",
       "      <td>keep_core</td>\n",
       "    </tr>\n",
       "    <tr>\n",
       "      <th>year</th>\n",
       "      <td>0.000000</td>\n",
       "      <td>0.0</td>\n",
       "      <td>11</td>\n",
       "      <td>keep_core</td>\n",
       "    </tr>\n",
       "    <tr>\n",
       "      <th>LOCAL_AUTHORITY</th>\n",
       "      <td>0.000000</td>\n",
       "      <td>NaN</td>\n",
       "      <td>10</td>\n",
       "      <td>keep_core</td>\n",
       "    </tr>\n",
       "  </tbody>\n",
       "</table>\n",
       "<p>84 rows × 4 columns</p>\n",
       "</div>"
      ],
      "text/plain": [
       "                           missing_ratio  zero_ratio  unique_count   keep_tag\n",
       "LMK_KEY                         0.000000         NaN        854276  keep_core\n",
       "ADDRESS1                        0.000000         NaN        658341  keep_core\n",
       "ADDRESS2                        0.444496         NaN         21523  keep_core\n",
       "POSTCODE                        0.000000         NaN         61196  keep_core\n",
       "BUILDING_REFERENCE_NUMBER       0.000000         0.0        788699  keep_core\n",
       "...                                  ...         ...           ...        ...\n",
       "UPRN                            0.009534         0.0        737422  keep_core\n",
       "UPRN_SOURCE                     0.009534         NaN             3  keep_core\n",
       "REPORT_TYPE                     0.000000         0.0             2  keep_core\n",
       "year                            0.000000         0.0            11  keep_core\n",
       "LOCAL_AUTHORITY                 0.000000         NaN            10  keep_core\n",
       "\n",
       "[84 rows x 4 columns]"
      ]
     },
     "metadata": {},
     "output_type": "display_data"
    }
   ],
   "source": [
    "import numpy as np\n",
    "# thresholds\n",
    "zero_threshold = 0.9\n",
    "missing_threshold = 0.9\n",
    "low_unique_threshold = 1\n",
    "\n",
    "# 1.missing\n",
    "missing_ratio = epc_all_df.isnull().mean() # 布尔值的mean就是率\n",
    "\n",
    "# 2.zero\n",
    "zero_ratio = epc_all_df.select_dtypes(include = [np.number]).apply(lambda x: (x == 0).mean())\n",
    "\n",
    "# 3.unique counts\n",
    "unique_counts = epc_all_df.nunique(dropna = False)\n",
    "\n",
    "# 4.summarize\n",
    "field_analysis_all = pd.DataFrame({\n",
    "    'missing_ratio': missing_ratio,\n",
    "    'zero_ratio': zero_ratio.reindex(epc_all_df.columns),\n",
    "    'unique_count': unique_counts\n",
    "}, index = epc_all_df.columns)\n",
    "\n",
    "# 5.labeling\n",
    "def classify_field(row):\n",
    "    if row['missing_ratio'] > missing_threshold or row['zero_ratio'] > zero_threshold or row['unique_count'] <= low_unique_threshold:\n",
    "        return 'drop_lstm'\n",
    "    else:\n",
    "        return 'keep_core'\n",
    "\n",
    "field_analysis_all['keep_tag'] = field_analysis_all.apply(classify_field, axis = 1)\n",
    "\n",
    "# define\n",
    "drop_lstm_fields_all = field_analysis_all[field_analysis_all['keep_tag'] == 'drop_lstm'].index.tolist()\n",
    "\n",
    "# results\n",
    "def display_dataframe_to_user(name, dataframe):\n",
    "    print(f\"\\n{name}\\n{'=' * len(name)}\")\n",
    "    display(dataframe)\n",
    "    \n",
    "display_dataframe_to_user(name='Field sparsity and retention suggestions', dataframe=field_analysis_all)"
   ]
  },
  {
   "cell_type": "code",
   "execution_count": 18,
   "id": "972a578e-fd47-4295-b187-9a59483d1495",
   "metadata": {},
   "outputs": [],
   "source": [
    "# delete drop tags\n",
    "epc_all_lstm_df = epc_all_df.drop(columns=drop_lstm_fields_all)\n",
    "# remain local authority\n",
    "epc_all_lstm_df['LOCAL_AUTHORITY'] = epc_all_df['LOCAL_AUTHORITY']"
   ]
  },
  {
   "cell_type": "code",
   "execution_count": 20,
   "id": "c67d9541-ca7b-49c2-ab98-346ade1caa57",
   "metadata": {},
   "outputs": [],
   "source": [
    "epc_all_df.to_csv(\"epc_all_cleaned.csv\", index=False)\n",
    "\n",
    "field_tags_all = field_analysis_all[['keep_tag']].copy()\n",
    "field_tags_all.index.name = 'field'\n",
    "\n",
    "field_tags_all.reset_index(inplace = True)\n",
    "\n",
    "field_tags_all.to_csv('epc_all_field_tags.csv', index = False)"
   ]
  },
  {
   "cell_type": "code",
   "execution_count": null,
   "id": "55957b46-ea7e-452d-9147-c3ef3001339a",
   "metadata": {},
   "outputs": [],
   "source": []
  }
 ],
 "metadata": {
  "kernelspec": {
   "display_name": "Python 3 (ipykernel)",
   "language": "python",
   "name": "python3"
  },
  "language_info": {
   "codemirror_mode": {
    "name": "ipython",
    "version": 3
   },
   "file_extension": ".py",
   "mimetype": "text/x-python",
   "name": "python",
   "nbconvert_exporter": "python",
   "pygments_lexer": "ipython3",
   "version": "3.12.4"
  }
 },
 "nbformat": 4,
 "nbformat_minor": 5
}
