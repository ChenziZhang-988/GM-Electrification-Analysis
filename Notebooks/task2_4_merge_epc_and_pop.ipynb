{
 "cells": [
  {
   "cell_type": "code",
   "execution_count": 1,
   "id": "7c335d3f-4163-47ad-9719-19e9c23deaf5",
   "metadata": {},
   "outputs": [
    {
     "name": "stderr",
     "output_type": "stream",
     "text": [
      "C:\\Users\\chen\\AppData\\Local\\Temp\\ipykernel_44300\\3842065055.py:4: DtypeWarning: Columns (31) have mixed types. Specify dtype option on import or set low_memory=False.\n",
      "  epc_df = pd.read_csv('epc_all_cleaned.csv')\n"
     ]
    },
    {
     "name": "stdout",
     "output_type": "stream",
     "text": [
      "0.0 \n",
      "\n",
      "  LOCAL_AUTHORITY  year  population\n",
      "0       E08000001  2019      294888\n",
      "1       E08000001  2018      291594\n",
      "3       E08000001  2016      287253\n",
      "5       E08000001  2020      295712\n",
      "7       E08000001  2017      289684\n"
     ]
    }
   ],
   "source": [
    "import pandas as pd\n",
    "\n",
    "# 1. read data\n",
    "epc_df = pd.read_csv('epc_all_cleaned.csv')\n",
    "pop_df = pd.read_csv('population_long_2013_2023.csv')\n",
    "\n",
    "# 2.merge\n",
    "merged_df = epc_df.merge(pop_df, how = 'left', on = ['LOCAL_AUTHORITY', 'year'])\n",
    "\n",
    "# 3.check\n",
    "print(merged_df['population'].isna().mean(), '\\n')\n",
    "print(merged_df[['LOCAL_AUTHORITY', 'year', 'population']].drop_duplicates().head())"
   ]
  },
  {
   "cell_type": "code",
   "execution_count": 3,
   "id": "ca94448d-98ef-4906-921e-892f8e084859",
   "metadata": {},
   "outputs": [],
   "source": [
    "# export\n",
    "merged_df.to_csv('epc_with_population.csv', index=False)"
   ]
  },
  {
   "cell_type": "code",
   "execution_count": 4,
   "id": "b3f1f565-17f8-43a5-bc3c-9268557a4901",
   "metadata": {},
   "outputs": [
    {
     "name": "stdout",
     "output_type": "stream",
     "text": [
      "<class 'pandas.core.frame.DataFrame'>\n",
      "RangeIndex: 854276 entries, 0 to 854275\n",
      "Data columns (total 85 columns):\n",
      " #   Column                         Non-Null Count   Dtype  \n",
      "---  ------                         --------------   -----  \n",
      " 0   LMK_KEY                        854276 non-null  object \n",
      " 1   ADDRESS1                       854276 non-null  object \n",
      " 2   ADDRESS2                       474554 non-null  object \n",
      " 3   POSTCODE                       854276 non-null  object \n",
      " 4   BUILDING_REFERENCE_NUMBER      854276 non-null  int64  \n",
      " 5   CURRENT_ENERGY_RATING          854276 non-null  object \n",
      " 6   POTENTIAL_ENERGY_RATING        854276 non-null  object \n",
      " 7   CURRENT_ENERGY_EFFICIENCY      854276 non-null  int64  \n",
      " 8   POTENTIAL_ENERGY_EFFICIENCY    854276 non-null  int64  \n",
      " 9   PROPERTY_TYPE                  854276 non-null  object \n",
      " 10  BUILT_FORM                     854276 non-null  object \n",
      " 11  INSPECTION_DATE                854276 non-null  object \n",
      " 12  CONSTITUENCY                   854276 non-null  object \n",
      " 13  LODGEMENT_DATE                 854276 non-null  object \n",
      " 14  TRANSACTION_TYPE               854276 non-null  object \n",
      " 15  ENVIRONMENT_IMPACT_CURRENT     854276 non-null  int64  \n",
      " 16  ENVIRONMENT_IMPACT_POTENTIAL   854276 non-null  int64  \n",
      " 17  ENERGY_CONSUMPTION_CURRENT     854276 non-null  int64  \n",
      " 18  ENERGY_CONSUMPTION_POTENTIAL   854276 non-null  float64\n",
      " 19  CO2_EMISSIONS_CURRENT          854276 non-null  float64\n",
      " 20  CO2_EMISS_CURR_PER_FLOOR_AREA  854276 non-null  int64  \n",
      " 21  CO2_EMISSIONS_POTENTIAL        854276 non-null  float64\n",
      " 22  LIGHTING_COST_CURRENT          854276 non-null  float64\n",
      " 23  LIGHTING_COST_POTENTIAL        854276 non-null  float64\n",
      " 24  HEATING_COST_CURRENT           854276 non-null  float64\n",
      " 25  HEATING_COST_POTENTIAL         854276 non-null  float64\n",
      " 26  HOT_WATER_COST_CURRENT         854276 non-null  float64\n",
      " 27  HOT_WATER_COST_POTENTIAL       854276 non-null  float64\n",
      " 28  TOTAL_FLOOR_AREA               854276 non-null  float64\n",
      " 29  ENERGY_TARIFF                  854255 non-null  object \n",
      " 30  MAINS_GAS_FLAG                 754448 non-null  object \n",
      " 31  FLOOR_LEVEL                    692550 non-null  object \n",
      " 32  FLAT_TOP_STOREY                224305 non-null  object \n",
      " 33  MAIN_HEATING_CONTROLS          542286 non-null  float64\n",
      " 34  MULTI_GLAZE_PROPORTION         785948 non-null  float64\n",
      " 35  GLAZED_TYPE                    819624 non-null  object \n",
      " 36  GLAZED_AREA                    819624 non-null  object \n",
      " 37  EXTENSION_COUNT                754448 non-null  float64\n",
      " 38  NUMBER_HABITABLE_ROOMS         754448 non-null  float64\n",
      " 39  NUMBER_HEATED_ROOMS            754448 non-null  float64\n",
      " 40  LOW_ENERGY_LIGHTING            829155 non-null  float64\n",
      " 41  HOTWATER_DESCRIPTION           854275 non-null  object \n",
      " 42  HOT_WATER_ENERGY_EFF           854276 non-null  object \n",
      " 43  HOT_WATER_ENV_EFF              854272 non-null  object \n",
      " 44  FLOOR_DESCRIPTION              854276 non-null  object \n",
      " 45  FLOOR_ENERGY_EFF               393701 non-null  object \n",
      " 46  WINDOWS_DESCRIPTION            854272 non-null  object \n",
      " 47  WINDOWS_ENERGY_EFF             854272 non-null  object \n",
      " 48  WINDOWS_ENV_EFF                854272 non-null  object \n",
      " 49  WALLS_DESCRIPTION              854276 non-null  object \n",
      " 50  WALLS_ENERGY_EFF               854270 non-null  object \n",
      " 51  WALLS_ENV_EFF                  854270 non-null  object \n",
      " 52  SECONDHEAT_DESCRIPTION         346900 non-null  object \n",
      " 53  ROOF_DESCRIPTION               854250 non-null  object \n",
      " 54  ROOF_ENERGY_EFF                697557 non-null  object \n",
      " 55  ROOF_ENV_EFF                   697557 non-null  object \n",
      " 56  MAINHEAT_DESCRIPTION           854276 non-null  object \n",
      " 57  MAINHEAT_ENERGY_EFF            854276 non-null  object \n",
      " 58  MAINHEAT_ENV_EFF               854276 non-null  object \n",
      " 59  MAINHEATCONT_DESCRIPTION       851398 non-null  object \n",
      " 60  MAINHEATC_ENERGY_EFF           854273 non-null  object \n",
      " 61  MAINHEATC_ENV_EFF              854273 non-null  object \n",
      " 62  LIGHTING_DESCRIPTION           854276 non-null  object \n",
      " 63  LIGHTING_ENERGY_EFF            854276 non-null  object \n",
      " 64  LIGHTING_ENV_EFF               854276 non-null  object \n",
      " 65  MAIN_FUEL                      854276 non-null  object \n",
      " 66  HEAT_LOSS_CORRIDOR             672648 non-null  object \n",
      " 67  FLOOR_HEIGHT                   287314 non-null  float64\n",
      " 68  PHOTO_SUPPLY                   416012 non-null  float64\n",
      " 69  SOLAR_WATER_HEATING_FLAG       547255 non-null  object \n",
      " 70  MECHANICAL_VENTILATION         819624 non-null  object \n",
      " 71  ADDRESS                        854276 non-null  object \n",
      " 72  CONSTITUENCY_LABEL             854177 non-null  object \n",
      " 73  POSTTOWN                       848323 non-null  object \n",
      " 74  CONSTRUCTION_AGE_BAND          847570 non-null  object \n",
      " 75  LODGEMENT_DATETIME             854276 non-null  object \n",
      " 76  TENURE                         854276 non-null  object \n",
      " 77  FIXED_LIGHTING_OUTLETS_COUNT   518990 non-null  float64\n",
      " 78  LOW_ENERGY_FIXED_LIGHT_COUNT   307984 non-null  float64\n",
      " 79  UPRN                           846131 non-null  float64\n",
      " 80  UPRN_SOURCE                    846131 non-null  object \n",
      " 81  REPORT_TYPE                    854276 non-null  int64  \n",
      " 82  year                           854276 non-null  int64  \n",
      " 83  LOCAL_AUTHORITY                854276 non-null  object \n",
      " 84  population                     854276 non-null  int64  \n",
      "dtypes: float64(21), int64(10), object(54)\n",
      "memory usage: 554.0+ MB\n"
     ]
    }
   ],
   "source": [
    "merged_df.info()"
   ]
  },
  {
   "cell_type": "code",
   "execution_count": 5,
   "id": "09ddfb27-b960-4bca-a4ca-042ebb1bcc61",
   "metadata": {},
   "outputs": [],
   "source": [
    "# read existing tags\n",
    "field_tags = pd.read_csv('epc_all_field_tags.csv')\n",
    "\n",
    "# adding population's tag\n",
    "if 'population' not in field_tags['field'].values:\n",
    "    field_tags = pd.concat([\n",
    "        field_tags,\n",
    "        pd.DataFrame([{'field': 'population', 'keep_tag': 'keep_core'}])\n",
    "    ], ignore_index=True)\n",
    "\n",
    "# export\n",
    "field_tags.to_csv('epc_pop_field_tags.csv', index=False)"
   ]
  },
  {
   "cell_type": "code",
   "execution_count": null,
   "id": "d6d33ab1-8c29-4a93-91c7-093960ea2b2f",
   "metadata": {},
   "outputs": [],
   "source": []
  }
 ],
 "metadata": {
  "kernelspec": {
   "display_name": "Python 3 (ipykernel)",
   "language": "python",
   "name": "python3"
  },
  "language_info": {
   "codemirror_mode": {
    "name": "ipython",
    "version": 3
   },
   "file_extension": ".py",
   "mimetype": "text/x-python",
   "name": "python",
   "nbconvert_exporter": "python",
   "pygments_lexer": "ipython3",
   "version": "3.12.4"
  }
 },
 "nbformat": 4,
 "nbformat_minor": 5
}
